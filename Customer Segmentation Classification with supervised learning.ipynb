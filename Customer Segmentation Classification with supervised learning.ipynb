{
 "cells": [
  {
   "cell_type": "markdown",
   "metadata": {},
   "source": [
    "# Il problema"
   ]
  },
  {
   "cell_type": "markdown",
   "metadata": {},
   "source": [
    "Un azienda automobilistica ha intenzione di espandersi in un nuovo mercato utilizzando la sua gamma di prodotti già esistenti (P1, P2, P3, P4, e P5). Dopo alcune ricerche hanno scoperto che il comportamento sul nuovo mercato di obiettivo è simile a quello in cui operano attualmente.\n",
    "\n",
    "Nell'attuale mercato il team di vendite ha classificato i possibili acquirenti in 4 diverse categorie (A, B, C, D). Con questa segmentazione possono proporre servizi e pubblicità mirate per i diversi tipi di clienti. Questa stategia ha funzionato particolarmente bene finora e quindi l'azienda punta ad utilizzarla anche sul nuovo mercato dove ha identificato 2627 possibili nuovi clienti.\n",
    "\n",
    "L'obiettivo è quello di prevedere correttamente il gruppo di appartenzenza dei nuovi clienti."
   ]
  },
  {
   "cell_type": "markdown",
   "metadata": {},
   "source": [
    "## I dati"
   ]
  },
  {
   "cell_type": "markdown",
   "metadata": {},
   "source": [
    "| Variable | Definition |\n",
    "| :-: | :-: |\n",
    "| ID | Identificativo univoco|\n",
    "| Gender | Sesso del cliente|\n",
    "| Ever_Married | Stato civile del cliente |\n",
    "| Age | Età del cliente |\n",
    "| Graduated | Il cliente è laureato? |\n",
    "| Profession | Lavoro del cliente |\n",
    "| Work_Experiecen | Esperienza lavorativa in anni |\n",
    "| Spending_Score | Punteggio di spesa del cliente |\n",
    "| Family Size | Numero di componenti del nucleo familiare del cliente (cliente incluso)|\n",
    "| Var_1 | Categoria anonima per il cliente |\n",
    "| Segmentation | (target) Segmento di appartenenza del cliente|\n"
   ]
  },
  {
   "cell_type": "code",
   "execution_count": 1,
   "metadata": {},
   "outputs": [],
   "source": [
    "#Data wrangling\n",
    "import numpy as np\n",
    "import pandas as pd\n",
    "from collections import Counter\n",
    "\n",
    "#Data Visualization\n",
    "import seaborn as sns\n",
    "import matplotlib.pyplot as plt\n",
    "%matplotlib inline\n",
    "import missingno\n",
    "from matplotlib.ticker import EngFormatter\n",
    "font = {'family' : 'sans',\n",
    "        'weight' : 'normal',\n",
    "        'size'   : 18}\n",
    "\n",
    "plt.rc('font', **font)\n",
    "\n",
    "# Remove warnings\n",
    "import warnings\n",
    "warnings.filterwarnings('ignore')\n",
    "\n",
    "#Machine Learning \n",
    "from sklearn.preprocessing import LabelEncoder\n",
    "from sklearn.preprocessing import StandardScaler\n",
    "from sklearn.linear_model import LogisticRegression, Perceptron, SGDClassifier\n",
    "from sklearn.svm import SVC, LinearSVC\n",
    "from sklearn.ensemble import RandomForestClassifier\n",
    "from sklearn.neighbors import KNeighborsClassifier\n",
    "from sklearn.naive_bayes import GaussianNB\n",
    "from sklearn.tree import DecisionTreeClassifier\n",
    "from sklearn.model_selection import train_test_split\n",
    "\n",
    "#Model evaluation \n",
    "from sklearn.model_selection import cross_val_score\n",
    "from sklearn.metrics import classification_report\n",
    "from sklearn.metrics import confusion_matrix, ConfusionMatrixDisplay\n",
    "\n",
    "#Hyperparameter tuning\n",
    "from sklearn.model_selection import GridSearchCV\n",
    "\n",
    "plt.rcParams[\"figure.figsize\"] = 10,6\n",
    "plt.style.use('ggplot')"
   ]
  },
  {
   "cell_type": "markdown",
   "metadata": {},
   "source": [
    "## Import "
   ]
  },
  {
   "cell_type": "code",
   "execution_count": 2,
   "metadata": {},
   "outputs": [
    {
     "data": {
      "text/html": [
       "<div>\n",
       "<style scoped>\n",
       "    .dataframe tbody tr th:only-of-type {\n",
       "        vertical-align: middle;\n",
       "    }\n",
       "\n",
       "    .dataframe tbody tr th {\n",
       "        vertical-align: top;\n",
       "    }\n",
       "\n",
       "    .dataframe thead th {\n",
       "        text-align: right;\n",
       "    }\n",
       "</style>\n",
       "<table border=\"1\" class=\"dataframe\">\n",
       "  <thead>\n",
       "    <tr style=\"text-align: right;\">\n",
       "      <th></th>\n",
       "      <th>ID</th>\n",
       "      <th>Gender</th>\n",
       "      <th>Ever_Married</th>\n",
       "      <th>Age</th>\n",
       "      <th>Graduated</th>\n",
       "      <th>Profession</th>\n",
       "      <th>Work_Experience</th>\n",
       "      <th>Spending_Score</th>\n",
       "      <th>Family_Size</th>\n",
       "      <th>Var_1</th>\n",
       "      <th>Segmentation</th>\n",
       "    </tr>\n",
       "  </thead>\n",
       "  <tbody>\n",
       "    <tr>\n",
       "      <th>0</th>\n",
       "      <td>462809</td>\n",
       "      <td>Male</td>\n",
       "      <td>No</td>\n",
       "      <td>22</td>\n",
       "      <td>No</td>\n",
       "      <td>Healthcare</td>\n",
       "      <td>1.0</td>\n",
       "      <td>Low</td>\n",
       "      <td>4.0</td>\n",
       "      <td>Cat_4</td>\n",
       "      <td>D</td>\n",
       "    </tr>\n",
       "    <tr>\n",
       "      <th>1</th>\n",
       "      <td>462643</td>\n",
       "      <td>Female</td>\n",
       "      <td>Yes</td>\n",
       "      <td>38</td>\n",
       "      <td>Yes</td>\n",
       "      <td>Engineer</td>\n",
       "      <td>NaN</td>\n",
       "      <td>Average</td>\n",
       "      <td>3.0</td>\n",
       "      <td>Cat_4</td>\n",
       "      <td>A</td>\n",
       "    </tr>\n",
       "    <tr>\n",
       "      <th>2</th>\n",
       "      <td>466315</td>\n",
       "      <td>Female</td>\n",
       "      <td>Yes</td>\n",
       "      <td>67</td>\n",
       "      <td>Yes</td>\n",
       "      <td>Engineer</td>\n",
       "      <td>1.0</td>\n",
       "      <td>Low</td>\n",
       "      <td>1.0</td>\n",
       "      <td>Cat_6</td>\n",
       "      <td>B</td>\n",
       "    </tr>\n",
       "    <tr>\n",
       "      <th>3</th>\n",
       "      <td>461735</td>\n",
       "      <td>Male</td>\n",
       "      <td>Yes</td>\n",
       "      <td>67</td>\n",
       "      <td>Yes</td>\n",
       "      <td>Lawyer</td>\n",
       "      <td>0.0</td>\n",
       "      <td>High</td>\n",
       "      <td>2.0</td>\n",
       "      <td>Cat_6</td>\n",
       "      <td>B</td>\n",
       "    </tr>\n",
       "    <tr>\n",
       "      <th>4</th>\n",
       "      <td>462669</td>\n",
       "      <td>Female</td>\n",
       "      <td>Yes</td>\n",
       "      <td>40</td>\n",
       "      <td>Yes</td>\n",
       "      <td>Entertainment</td>\n",
       "      <td>NaN</td>\n",
       "      <td>High</td>\n",
       "      <td>6.0</td>\n",
       "      <td>Cat_6</td>\n",
       "      <td>A</td>\n",
       "    </tr>\n",
       "  </tbody>\n",
       "</table>\n",
       "</div>"
      ],
      "text/plain": [
       "       ID  Gender Ever_Married  Age Graduated     Profession  Work_Experience  \\\n",
       "0  462809    Male           No   22        No     Healthcare              1.0   \n",
       "1  462643  Female          Yes   38       Yes       Engineer              NaN   \n",
       "2  466315  Female          Yes   67       Yes       Engineer              1.0   \n",
       "3  461735    Male          Yes   67       Yes         Lawyer              0.0   \n",
       "4  462669  Female          Yes   40       Yes  Entertainment              NaN   \n",
       "\n",
       "  Spending_Score  Family_Size  Var_1 Segmentation  \n",
       "0            Low          4.0  Cat_4            D  \n",
       "1        Average          3.0  Cat_4            A  \n",
       "2            Low          1.0  Cat_6            B  \n",
       "3           High          2.0  Cat_6            B  \n",
       "4           High          6.0  Cat_6            A  "
      ]
     },
     "execution_count": 2,
     "metadata": {},
     "output_type": "execute_result"
    }
   ],
   "source": [
    "train_data = pd.read_csv('Customer_Train.csv')\n",
    "test_data = pd.read_csv('Customer_Test.csv')\n",
    "data = pd.concat([train_data, test_data])\n",
    "data.head()"
   ]
  },
  {
   "cell_type": "code",
   "execution_count": 3,
   "metadata": {},
   "outputs": [
    {
     "name": "stdout",
     "output_type": "stream",
     "text": [
      "Train set shape: (8068, 11)\n",
      "Test set shape: (2627, 11)\n"
     ]
    }
   ],
   "source": [
    "print('Train set shape:',train_data.shape)\n",
    "print('Test set shape:',test_data.shape)"
   ]
  },
  {
   "cell_type": "markdown",
   "metadata": {},
   "source": [
    "In realtà i due set non sono divisi in modo corretto perché la variabile target è contenuta anche nel test set, per questo uniamo i due dataframe e li consideriamo insieme. Successivamente, prima di applicare il modello di machine learning divideremo i dati in train e test."
   ]
  },
  {
   "cell_type": "code",
   "execution_count": 4,
   "metadata": {},
   "outputs": [
    {
     "name": "stdout",
     "output_type": "stream",
     "text": [
      "<class 'pandas.core.frame.DataFrame'>\n",
      "Int64Index: 10695 entries, 0 to 2626\n",
      "Data columns (total 11 columns):\n",
      " #   Column           Non-Null Count  Dtype  \n",
      "---  ------           --------------  -----  \n",
      " 0   ID               10695 non-null  int64  \n",
      " 1   Gender           10695 non-null  object \n",
      " 2   Ever_Married     10505 non-null  object \n",
      " 3   Age              10695 non-null  int64  \n",
      " 4   Graduated        10593 non-null  object \n",
      " 5   Profession       10533 non-null  object \n",
      " 6   Work_Experience  9597 non-null   float64\n",
      " 7   Spending_Score   10695 non-null  object \n",
      " 8   Family_Size      10247 non-null  float64\n",
      " 9   Var_1            10587 non-null  object \n",
      " 10  Segmentation     10695 non-null  object \n",
      "dtypes: float64(2), int64(2), object(7)\n",
      "memory usage: 1002.7+ KB\n"
     ]
    }
   ],
   "source": [
    "data.info()"
   ]
  },
  {
   "cell_type": "markdown",
   "metadata": {},
   "source": [
    "Si noti che le colonne che contengono varaibili qualitative ordinali o binarie, sono resgristate come \"object\". Dovremo codificarle correttamente prima di applicare un algoritmo di Machine Learning. È anche possibile vedere che ci sono dei dati mancanti, studiamoli più nel dettaglio."
   ]
  },
  {
   "cell_type": "code",
   "execution_count": 5,
   "metadata": {},
   "outputs": [
    {
     "data": {
      "text/plain": [
       "ID                    0\n",
       "Gender                0\n",
       "Ever_Married        190\n",
       "Age                   0\n",
       "Graduated           102\n",
       "Profession          162\n",
       "Work_Experience    1098\n",
       "Spending_Score        0\n",
       "Family_Size         448\n",
       "Var_1               108\n",
       "Segmentation          0\n",
       "dtype: int64"
      ]
     },
     "execution_count": 5,
     "metadata": {},
     "output_type": "execute_result"
    }
   ],
   "source": [
    "data.isnull().sum()"
   ]
  },
  {
   "cell_type": "markdown",
   "metadata": {},
   "source": [
    "Abbiamo diverse colonne con valori mancanti che dobbiamo gestire, tuttavia non è detto che sia possibile usare lo stesso modello per tutte. Ad esempio i valori mancanti della colonna _Work_Experience_ potrebbero indicare persone che non sono mai state impiegate, e quindi sarebbe utile sostituire questi valori mancanti con 0; la stessa cosa vale per la colonna _Profession_, i valori mancanti potrebbero indicare persone che sono attualmente disoccupate.\n",
    "\n",
    "Visualizziamo la distribuzione dei dati mancanti:"
   ]
  },
  {
   "cell_type": "code",
   "execution_count": 6,
   "metadata": {},
   "outputs": [
    {
     "data": {
      "image/png": "[encoded data removed]",
      "text/plain": [
       "<Figure size 1800x720 with 2 Axes>"
      ]
     },
     "metadata": {},
     "output_type": "display_data"
    }
   ],
   "source": [
    "missingno.matrix(data)\n",
    "plt.show()"
   ]
  },
  {
   "cell_type": "markdown",
   "metadata": {},
   "source": [
    "Le colonne più problematiche a livello di dati mancanti sono _Work_experience_ e _Familiy_Size_. A volte utilizzando una rappresentazione grafica è più facile avere un'idea di come sono composti i dati con cui stiamo lavorando."
   ]
  },
  {
   "cell_type": "code",
   "execution_count": 7,
   "metadata": {},
   "outputs": [
    {
     "data": {
      "text/plain": [
       "38"
      ]
     },
     "execution_count": 7,
     "metadata": {},
     "output_type": "execute_result"
    }
   ],
   "source": [
    "data.duplicated().sum()"
   ]
  },
  {
   "cell_type": "markdown",
   "metadata": {},
   "source": [
    "Sono presenti anche dei valori duplicati."
   ]
  },
  {
   "cell_type": "code",
   "execution_count": 8,
   "metadata": {},
   "outputs": [
    {
     "data": {
      "text/html": [
       "<div>\n",
       "<style scoped>\n",
       "    .dataframe tbody tr th:only-of-type {\n",
       "        vertical-align: middle;\n",
       "    }\n",
       "\n",
       "    .dataframe tbody tr th {\n",
       "        vertical-align: top;\n",
       "    }\n",
       "\n",
       "    .dataframe thead th {\n",
       "        text-align: right;\n",
       "    }\n",
       "</style>\n",
       "<table border=\"1\" class=\"dataframe\">\n",
       "  <thead>\n",
       "    <tr style=\"text-align: right;\">\n",
       "      <th></th>\n",
       "      <th>ID</th>\n",
       "      <th>Age</th>\n",
       "      <th>Work_Experience</th>\n",
       "      <th>Family_Size</th>\n",
       "    </tr>\n",
       "  </thead>\n",
       "  <tbody>\n",
       "    <tr>\n",
       "      <th>count</th>\n",
       "      <td>10695.000000</td>\n",
       "      <td>10695.000000</td>\n",
       "      <td>9597.000000</td>\n",
       "      <td>10247.000000</td>\n",
       "    </tr>\n",
       "    <tr>\n",
       "      <th>mean</th>\n",
       "      <td>463468.088640</td>\n",
       "      <td>43.511828</td>\n",
       "      <td>2.619777</td>\n",
       "      <td>2.844052</td>\n",
       "    </tr>\n",
       "    <tr>\n",
       "      <th>std</th>\n",
       "      <td>2600.966411</td>\n",
       "      <td>16.774158</td>\n",
       "      <td>3.390790</td>\n",
       "      <td>1.536427</td>\n",
       "    </tr>\n",
       "    <tr>\n",
       "      <th>min</th>\n",
       "      <td>458982.000000</td>\n",
       "      <td>18.000000</td>\n",
       "      <td>0.000000</td>\n",
       "      <td>1.000000</td>\n",
       "    </tr>\n",
       "    <tr>\n",
       "      <th>25%</th>\n",
       "      <td>461220.500000</td>\n",
       "      <td>30.000000</td>\n",
       "      <td>0.000000</td>\n",
       "      <td>2.000000</td>\n",
       "    </tr>\n",
       "    <tr>\n",
       "      <th>50%</th>\n",
       "      <td>463451.000000</td>\n",
       "      <td>41.000000</td>\n",
       "      <td>1.000000</td>\n",
       "      <td>3.000000</td>\n",
       "    </tr>\n",
       "    <tr>\n",
       "      <th>75%</th>\n",
       "      <td>465733.500000</td>\n",
       "      <td>53.000000</td>\n",
       "      <td>4.000000</td>\n",
       "      <td>4.000000</td>\n",
       "    </tr>\n",
       "    <tr>\n",
       "      <th>max</th>\n",
       "      <td>467974.000000</td>\n",
       "      <td>89.000000</td>\n",
       "      <td>14.000000</td>\n",
       "      <td>9.000000</td>\n",
       "    </tr>\n",
       "  </tbody>\n",
       "</table>\n",
       "</div>"
      ],
      "text/plain": [
       "                  ID           Age  Work_Experience   Family_Size\n",
       "count   10695.000000  10695.000000      9597.000000  10247.000000\n",
       "mean   463468.088640     43.511828         2.619777      2.844052\n",
       "std      2600.966411     16.774158         3.390790      1.536427\n",
       "min    458982.000000     18.000000         0.000000      1.000000\n",
       "25%    461220.500000     30.000000         0.000000      2.000000\n",
       "50%    463451.000000     41.000000         1.000000      3.000000\n",
       "75%    465733.500000     53.000000         4.000000      4.000000\n",
       "max    467974.000000     89.000000        14.000000      9.000000"
      ]
     },
     "execution_count": 8,
     "metadata": {},
     "output_type": "execute_result"
    }
   ],
   "source": [
    "data.describe()"
   ]
  },
  {
   "cell_type": "code",
   "execution_count": 9,
   "metadata": {},
   "outputs": [
    {
     "name": "stdout",
     "output_type": "stream",
     "text": [
      "Male      5841\n",
      "Female    4854\n",
      "Name: Gender, dtype: int64\n",
      "\n",
      "Yes    6163\n",
      "No     4342\n",
      "Name: Ever_Married, dtype: int64\n",
      "\n",
      "Yes    6570\n",
      "No     4023\n",
      "Name: Graduated, dtype: int64\n",
      "\n",
      "Artist           3318\n",
      "Healthcare       1750\n",
      "Entertainment    1250\n",
      "Engineer          935\n",
      "Doctor            930\n",
      "Lawyer            844\n",
      "Executive         775\n",
      "Marketing         403\n",
      "Homemaker         328\n",
      "Name: Profession, dtype: int64\n",
      "\n",
      "Low        6494\n",
      "Average    2599\n",
      "High       1602\n",
      "Name: Spending_Score, dtype: int64\n",
      "\n",
      "Cat_6    6910\n",
      "Cat_4    1475\n",
      "Cat_3    1089\n",
      "Cat_2     563\n",
      "Cat_7     269\n",
      "Cat_1     167\n",
      "Cat_5     114\n",
      "Name: Var_1, dtype: int64\n",
      "\n",
      "D    3027\n",
      "A    2818\n",
      "C    2442\n",
      "B    2408\n",
      "Name: Segmentation, dtype: int64\n",
      "\n"
     ]
    }
   ],
   "source": [
    "#Visualizzo le variabili categoriche\n",
    "\n",
    "categorical_col = data.select_dtypes('object')\n",
    "for i in categorical_col:\n",
    "    print(data[i].value_counts(), end=\"\\n\\n\")"
   ]
  },
  {
   "cell_type": "markdown",
   "metadata": {},
   "source": [
    "# Pulizia dei dati "
   ]
  },
  {
   "cell_type": "markdown",
   "metadata": {},
   "source": [
    "Come prima cosa rimuoviamo i valori duplicati "
   ]
  },
  {
   "cell_type": "code",
   "execution_count": 10,
   "metadata": {},
   "outputs": [],
   "source": [
    "data.drop_duplicates(inplace=True)"
   ]
  },
  {
   "cell_type": "markdown",
   "metadata": {},
   "source": [
    "Adesso dobbiamo decidere come gestire i dati che presentano dei valori mancanti. Possiamo eliminare le righe o le colonne che contengono i valori mancanti, oppure decidere di sostituire i dati mancanti con altri valori significativi in base alla variabile che stiamo considerando.\n",
    "\n",
    "Per quanto riguarda le variabili numeriche Work_Experience e Family_Size, sostituiamo i valori mancanti con la mediana, in modo da non subire l'effetto di outliers.\n",
    "\n",
    "Per quanto riguarda le variabili categoriche, consideriamo i valori mancanti di Ever_Married come 'No', i valori mancanti di Graduated come 'No' e eliminiamo i valori mancanti di Profession e Var_1 perché non abbiamo un modo efficiente per sostituirli.\n",
    "\n",
    "Calcoliamo la mediana di Work_Experience e Family_Size"
   ]
  },
  {
   "cell_type": "code",
   "execution_count": 11,
   "metadata": {},
   "outputs": [
    {
     "name": "stdout",
     "output_type": "stream",
     "text": [
      "Work_Experience median: 1.0\n",
      "Family_Size median: 2.0\n"
     ]
    }
   ],
   "source": [
    "W_median = data['Work_Experience'].median()\n",
    "F_median = data['Family_Size'].median()\n",
    "\n",
    "print('Work_Experience median:', W_median)\n",
    "print('Family_Size median:', F_median)"
   ]
  },
  {
   "cell_type": "code",
   "execution_count": 12,
   "metadata": {},
   "outputs": [
    {
     "name": "stdout",
     "output_type": "stream",
     "text": [
      "<class 'pandas.core.frame.DataFrame'>\n",
      "Int64Index: 10390 entries, 0 to 2626\n",
      "Data columns (total 11 columns):\n",
      " #   Column           Non-Null Count  Dtype  \n",
      "---  ------           --------------  -----  \n",
      " 0   ID               10390 non-null  int64  \n",
      " 1   Gender           10390 non-null  object \n",
      " 2   Ever_Married     10390 non-null  object \n",
      " 3   Age              10390 non-null  int64  \n",
      " 4   Graduated        10390 non-null  object \n",
      " 5   Profession       10390 non-null  object \n",
      " 6   Work_Experience  10390 non-null  float64\n",
      " 7   Spending_Score   10390 non-null  object \n",
      " 8   Family_Size      10390 non-null  float64\n",
      " 9   Var_1            10390 non-null  object \n",
      " 10  Segmentation     10390 non-null  object \n",
      "dtypes: float64(2), int64(2), object(7)\n",
      "memory usage: 974.1+ KB\n"
     ]
    }
   ],
   "source": [
    "#Sostituisco i valori mancanti per tutte le variabili\n",
    "data['Work_Experience'] = data['Work_Experience'].fillna(W_median)\n",
    "data['Family_Size'] = data['Family_Size'].fillna(F_median)\n",
    "data['Ever_Married'].fillna('No',inplace=True)\n",
    "data['Graduated'].fillna('No',inplace=True)\n",
    "data.dropna(subset=['Profession'],inplace=True)\n",
    "data.dropna(subset=['Var_1'],inplace=True)\n",
    "data.info()"
   ]
  },
  {
   "cell_type": "markdown",
   "metadata": {},
   "source": [
    "Infine rimuoviamo la colonna ID perché non verrà usata nell'analisi"
   ]
  },
  {
   "cell_type": "code",
   "execution_count": 13,
   "metadata": {},
   "outputs": [],
   "source": [
    "data = data.drop('ID', axis=1)"
   ]
  },
  {
   "cell_type": "markdown",
   "metadata": {},
   "source": [
    "## Exploratory Data Analysis"
   ]
  },
  {
   "cell_type": "markdown",
   "metadata": {},
   "source": [
    "### variabili categoriche"
   ]
  },
  {
   "cell_type": "markdown",
   "metadata": {},
   "source": [
    "Ricordiamo che la nostra variabile target è _Segmentation_ quindi visualizziamo come si comporta questa variabile rispetto alle features categoriche."
   ]
  },
  {
   "cell_type": "code",
   "execution_count": 14,
   "metadata": {},
   "outputs": [
    {
     "data": {
      "image/png": "[encoded data removed]",
      "text/plain": [
       "<Figure size 720x432 with 1 Axes>"
      ]
     },
     "metadata": {},
     "output_type": "display_data"
    }
   ],
   "source": [
    "sns.countplot(x=data.Segmentation)\n",
    "plt.title('Distribuzione dei clienti rispetto al segmento');"
   ]
  },
  {
   "cell_type": "markdown",
   "metadata": {},
   "source": [
    "Il segmento D è il più rappresentativo."
   ]
  },
  {
   "cell_type": "code",
   "execution_count": 15,
   "metadata": {},
   "outputs": [
    {
     "data": {
      "image/png": "[encoded data removed]",
      "text/plain": [
       "<Figure size 720x432 with 1 Axes>"
      ]
     },
     "metadata": {},
     "output_type": "display_data"
    }
   ],
   "source": [
    "sns.countplot(x=data.Gender)\n",
    "plt.title('Distribuzione totale clienti in base al sesso');"
   ]
  },
  {
   "cell_type": "markdown",
   "metadata": {},
   "source": [
    "La maggioranza della clientela è composta da individui di sesso maschile."
   ]
  },
  {
   "cell_type": "code",
   "execution_count": 16,
   "metadata": {},
   "outputs": [
    {
     "data": {
      "image/png": "[encoded data removed]",
      "text/plain": [
       "<Figure size 720x432 with 1 Axes>"
      ]
     },
     "metadata": {},
     "output_type": "display_data"
    }
   ],
   "source": [
    "sns.countplot(data=data, x='Segmentation', hue='Gender')\n",
    "plt.title('Distribuzione di genere per segmento');"
   ]
  },
  {
   "cell_type": "markdown",
   "metadata": {},
   "source": [
    "In ogni segmento gli uomini sono la maggioranza. La differenza minore si registra nel segmento C."
   ]
  },
  {
   "cell_type": "code",
   "execution_count": 17,
   "metadata": {},
   "outputs": [
    {
     "data": {
      "image/png": "[encoded data removed]",
      "text/plain": [
       "<Figure size 720x432 with 1 Axes>"
      ]
     },
     "metadata": {},
     "output_type": "display_data"
    }
   ],
   "source": [
    "sns.countplot(data=data, x='Ever_Married', hue='Segmentation')\n",
    "plt.title('Distribuzione di stato civile per segmento')\n",
    "plt.xlabel('Il cliente è sposato?');"
   ]
  },
  {
   "cell_type": "markdown",
   "metadata": {},
   "source": [
    "Il segmento D è quello composto in maggioranta da clienti non sposati. L'opposto avviene nel segmento C, dove la maggiorparte della clientela è sposata. Anche er quanto riguarda gli altri segmenti i clienti sposati sono la maggioranza. Probabilmente il segmento D fa riferimento ad auto sportive, per questo ci sono più clienti non sposati."
   ]
  },
  {
   "cell_type": "code",
   "execution_count": 18,
   "metadata": {},
   "outputs": [
    {
     "data": {
      "image/png": "[encoded data removed]",
      "text/plain": [
       "<Figure size 720x432 with 1 Axes>"
      ]
     },
     "metadata": {},
     "output_type": "display_data"
    }
   ],
   "source": [
    "sns.countplot(data=data, x='Graduated', hue='Segmentation')\n",
    "plt.legend(loc='upper center')\n",
    "plt.title('Distribuzione di laureati per segmento');"
   ]
  },
  {
   "cell_type": "markdown",
   "metadata": {},
   "source": [
    "Osservando gli ultimi due grafici, possiamo notare che il segmento D è quello che contiene la maggioranza di clienti non laureati e non sposati. In precedenza avevamo ipotizzato che il segmento D potesse far riferimento alle automobili sportive. Tuttavia notiamo che la maggiorparte dei cienti nel segmento D non è laureata, e di solito ciò corrisponde ad un livello di reddito più basso che non dovrebbe essere compatibile con il segmento delle auto sportive, ma potrebbe corrispondere al segmento delle auto più economiche oppure usate. Visualizziamo quali sono le principali attività lavorative dei nostri clienti."
   ]
  },
  {
   "cell_type": "code",
   "execution_count": 19,
   "metadata": {},
   "outputs": [
    {
     "data": {
      "image/png": "[encoded data removed]",
      "text/plain": [
       "<Figure size 936x576 with 1 Axes>"
      ]
     },
     "metadata": {},
     "output_type": "display_data"
    }
   ],
   "source": [
    "plt.figure(figsize=(13,8))\n",
    "sns.countplot(x=data.Profession, palette = 'Set1')\n",
    "plt.title('Distribuzione totale clienti in base alla professione')\n",
    "plt.xlabel('Professione')\n",
    "plt.xticks(rotation=60);"
   ]
  },
  {
   "cell_type": "markdown",
   "metadata": {},
   "source": [
    "La maggior parte dei clienti sono artisti, mentre la seconda professione più rappresentata è l'assistenza sanitaria. Adesso normalizziamo il numero di clienti e vediamo come si distribuiscono, in percentuale, all'interno dei vari segmenti."
   ]
  },
  {
   "cell_type": "code",
   "execution_count": 20,
   "metadata": {},
   "outputs": [],
   "source": [
    "prof=data.groupby('Segmentation')['Profession'].value_counts(normalize=True).round(decimals=2).unstack()*100\n"
   ]
  },
  {
   "cell_type": "code",
   "execution_count": 21,
   "metadata": {},
   "outputs": [
    {
     "data": {
      "image/png": "[encoded data removed]",
      "text/plain": [
       "<Figure size 1080x576 with 1 Axes>"
      ]
     },
     "metadata": {},
     "output_type": "display_data"
    }
   ],
   "source": [
    "fig,ax = plt.subplots(1,1, figsize=(15,8))\n",
    "col=sns.color_palette('Set1')\n",
    "prof.plot(kind='bar',ax=ax, color=col)\n",
    "ax.yaxis.set_major_formatter(EngFormatter(unit=u\"%\"))\n",
    "ax.tick_params(axis='x', labelrotation=0)\n",
    "ax.set_xlabel('Segmentazione')\n",
    "ax.set_title('Composizione percentuale della clientela \\n in base alla professione per segmento');"
   ]
  },
  {
   "cell_type": "markdown",
   "metadata": {},
   "source": [
    "Il grafico mostra la composizione in percentuale della clientela per ogni segmento, suddivisa in base alla professione. Nei primi 3 segmenti la maggioranza dei clienti è composta da artisti, che sono anche la professione più rappresentata in termini assoluti. In particolare, per quanto riguarda il segmento C, gli artisti rappresentano più del 50% della clientela; probabilmente i veicoli di questo segmento hanno qualcosa utile alla professione degli artisti o una caratteristica estetica che attira di più le persone che lavorano nel mondo dell'arte. Per quanto riguarda il segmento D invece abbiamo un comportamento diverso . Circa il 40% dei clienti di questo segmento svolgono professioni relative all'assistenza sanitaria. Dai grafici precedenti abbiamo visto anche che il segmento D è quello più scelto dai clienti non sposati e non laureati. Per quanto riguarda il titolo di studio ha senso, perché non è necessaria una laurea per essere impiegati nell'assistenza sanitaria. Per quanto riguarda il reddito invece non possiamo trarre ulteriori conclusioni perché, come possiamo vedere dal grafico, anche professioni ad alto reddito (come dirigenti e avvocati) sono abbastanza rappresentate anche nel segmento D. \n",
    "\n",
    "Vediamo come è distribuito il punteggio di spesa del cliente rispetto ai segmenti"
   ]
  },
  {
   "cell_type": "code",
   "execution_count": 22,
   "metadata": {},
   "outputs": [
    {
     "data": {
      "image/png": "[encoded data removed]",
      "text/plain": [
       "<Figure size 720x432 with 1 Axes>"
      ]
     },
     "metadata": {},
     "output_type": "display_data"
    }
   ],
   "source": [
    "sns.countplot(data=data, x='Segmentation', hue='Spending_Score')\n",
    "plt.title('Distribuzione Spending Score per segmento');"
   ]
  },
  {
   "cell_type": "markdown",
   "metadata": {},
   "source": [
    "Nel segmento D ritroviamo la maggior parte dei clienti con un punteggio di spesa basso. Questa categoria costituisce comuneque la classe dominante in tutti i segmeti tranne in quello C, dove la più rappresentativa è quella con punteggio di spesa medio, ed è anche la classe con più clienti con punteggio di spesa alto. Ricordiamo che lo spending score è un punteggio assegnato in base alle spese effettuate dai clienti e dal loro comportamento in generale. Senza sapere come questo score viene calcolato non possiamo trarre ulteriori conclusioni dal grafico."
   ]
  },
  {
   "cell_type": "code",
   "execution_count": 23,
   "metadata": {},
   "outputs": [
    {
     "data": {
      "image/png": "[encoded data removed]",
      "text/plain": [
       "<Figure size 720x432 with 1 Axes>"
      ]
     },
     "metadata": {},
     "output_type": "display_data"
    }
   ],
   "source": [
    "sns.countplot(data=data, x='Segmentation', hue='Var_1', \n",
    "              palette = 'Set1')\n",
    "plt.title('Distribuzione categoria anonima per segmento');"
   ]
  },
  {
   "cell_type": "markdown",
   "metadata": {},
   "source": [
    "La categoria 6 è la più rappresentativa in ogni segmento "
   ]
  },
  {
   "cell_type": "markdown",
   "metadata": {},
   "source": [
    "### variabili numeriche"
   ]
  },
  {
   "cell_type": "markdown",
   "metadata": {},
   "source": [
    "Le variabili numeriche sono Age, Work_Experience e Family_Size. Come prima cosa definiamo una funzione per identificare i valori outliers nelle variabili numeriche e rimuoverli."
   ]
  },
  {
   "cell_type": "code",
   "execution_count": 24,
   "metadata": {},
   "outputs": [
    {
     "name": "stdout",
     "output_type": "stream",
     "text": [
      "dobbiamo eliminare 0 indici: []\n"
     ]
    }
   ],
   "source": [
    "def detect_outliers(df, n, features):\n",
    "    outlier_indices = []\n",
    "    for col in features:\n",
    "        Q1 = np.percentile(df[col], 25)\n",
    "        Q3 = np.percentile(df[col], 75)\n",
    "        IQR = Q3 - Q1\n",
    "        outlier_step = 1.5 * IQR\n",
    "        outlier_list_col = df[(df[col] < Q1 - outlier_step) | (df[col] > Q3 + outlier_step)].index\n",
    "        outlier_indices.extend(outlier_list_col)\n",
    "    outlier_indices = Counter(outlier_indices)\n",
    "    multiple_outliers = list(key for key, value in outlier_indices.items() if value > n )\n",
    "    return multiple_outliers\n",
    "outliers_to_drop = detect_outliers(data, 2, ['Age', 'Work_Experience', 'Family_Size'])\n",
    "print('dobbiamo eliminare {} indici:'.format(len(outliers_to_drop)), outliers_to_drop)"
   ]
  },
  {
   "cell_type": "code",
   "execution_count": 25,
   "metadata": {},
   "outputs": [
    {
     "name": "stdout",
     "output_type": "stream",
     "text": [
      "<class 'pandas.core.frame.DataFrame'>\n",
      "Int64Index: 10390 entries, 0 to 2626\n",
      "Data columns (total 10 columns):\n",
      " #   Column           Non-Null Count  Dtype  \n",
      "---  ------           --------------  -----  \n",
      " 0   Gender           10390 non-null  object \n",
      " 1   Ever_Married     10390 non-null  object \n",
      " 2   Age              10390 non-null  int64  \n",
      " 3   Graduated        10390 non-null  object \n",
      " 4   Profession       10390 non-null  object \n",
      " 5   Work_Experience  10390 non-null  float64\n",
      " 6   Spending_Score   10390 non-null  object \n",
      " 7   Family_Size      10390 non-null  float64\n",
      " 8   Var_1            10390 non-null  object \n",
      " 9   Segmentation     10390 non-null  object \n",
      "dtypes: float64(2), int64(1), object(7)\n",
      "memory usage: 1.1+ MB\n"
     ]
    }
   ],
   "source": [
    "data.info()"
   ]
  },
  {
   "cell_type": "markdown",
   "metadata": {},
   "source": [
    "In Questo dataset non abbiamo valori outliers da eliminare. Visualizziamo la correlazione delle variabili numeriche con la correlation matrix"
   ]
  },
  {
   "cell_type": "code",
   "execution_count": 26,
   "metadata": {},
   "outputs": [
    {
     "data": {
      "text/plain": [
       "Text(0.5, 1.0, 'Correlazione fra le variabili numeriche')"
      ]
     },
     "execution_count": 26,
     "metadata": {},
     "output_type": "execute_result"
    },
    {
     "data": {
      "image/png": "[encoded data removed]",
      "text/plain": [
       "<Figure size 720x432 with 2 Axes>"
      ]
     },
     "metadata": {},
     "output_type": "display_data"
    }
   ],
   "source": [
    "sns.heatmap(data[['Segmentation','Age','Work_Experience','Family_Size']].corr(), annot=True, fmt='.2f')\n",
    "plt.title('Correlazione fra le variabili numeriche')"
   ]
  },
  {
   "cell_type": "markdown",
   "metadata": {},
   "source": [
    "Possiamo vedere che le variabili Età e esperienza lavorativa sono negativamente correlate, che è una cosa normale."
   ]
  },
  {
   "cell_type": "code",
   "execution_count": 27,
   "metadata": {},
   "outputs": [
    {
     "data": {
      "image/png": "[encoded data removed]",
      "text/plain": [
       "<Figure size 720x432 with 1 Axes>"
      ]
     },
     "metadata": {},
     "output_type": "display_data"
    }
   ],
   "source": [
    "sns.barplot(y='Age', x='Segmentation', data=data, ci=None)\n",
    "plt.title('Età media per segmento')\n",
    "plt.xlabel('Segmento')\n",
    "plt.ylabel('Età');"
   ]
  },
  {
   "cell_type": "markdown",
   "metadata": {},
   "source": [
    "Il segmento D è quello con l'età media minore, mentre il segmento C registra l'età media più elevata."
   ]
  },
  {
   "cell_type": "code",
   "execution_count": 28,
   "metadata": {},
   "outputs": [
    {
     "data": {
      "image/png": "[encoded data removed]",
      "text/plain": [
       "<Figure size 720x432 with 1 Axes>"
      ]
     },
     "metadata": {},
     "output_type": "display_data"
    }
   ],
   "source": [
    "sns.barplot(y='Family_Size', x='Segmentation',data=data, ci=None)\n",
    "plt.title('Dimensione media della famiglia per segmento')\n",
    "plt.xlabel('Segmento')\n",
    "plt.ylabel('Dimensione della famiglia');"
   ]
  },
  {
   "cell_type": "markdown",
   "metadata": {},
   "source": [
    "Il segmento D in media ha i clienti con le famiglie più numerose."
   ]
  },
  {
   "cell_type": "code",
   "execution_count": 29,
   "metadata": {},
   "outputs": [
    {
     "name": "stdout",
     "output_type": "stream",
     "text": [
      "  Segmentation  Work_Experience\n",
      "3            D         2.694521\n",
      "2            C         2.143277\n",
      "1            B         2.263918\n",
      "0            A         2.668615\n"
     ]
    }
   ],
   "source": [
    "Work_S =  data[['Segmentation','Work_Experience']].groupby('Segmentation', as_index=False).mean().sort_values(by= 'Segmentation', ascending=False)\n",
    "print(Work_S)"
   ]
  },
  {
   "cell_type": "code",
   "execution_count": 30,
   "metadata": {
    "scrolled": false
   },
   "outputs": [
    {
     "data": {
      "image/png": "[encoded data removed]",
      "text/plain": [
       "<Figure size 720x432 with 1 Axes>"
      ]
     },
     "metadata": {},
     "output_type": "display_data"
    }
   ],
   "source": [
    "sns.barplot(y='Work_Experience', x='Segmentation', data=data, ci=None)\n",
    "plt.title('Esperienza lavorativa media per segmento')\n",
    "plt.xlabel('Segmento')\n",
    "plt.ylabel('Esperienza lavorativa (anni)');"
   ]
  },
  {
   "cell_type": "markdown",
   "metadata": {},
   "source": [
    "La classe D e la classe A sono molto simili in termini di esperienza lavorativa media, ma ricordiamo che la classe D è il segmento con l'età media più bassa."
   ]
  },
  {
   "cell_type": "markdown",
   "metadata": {},
   "source": [
    "# Preprocessing\n"
   ]
  },
  {
   "cell_type": "markdown",
   "metadata": {},
   "source": [
    "## Encoding"
   ]
  },
  {
   "cell_type": "markdown",
   "metadata": {},
   "source": [
    "Prima di addestrare un modello di machine learning, dobbiamo assicurarci che tutte le variabili categoriche siano espresse in termini numerici."
   ]
  },
  {
   "cell_type": "code",
   "execution_count": 31,
   "metadata": {
    "scrolled": true
   },
   "outputs": [
    {
     "data": {
      "text/html": [
       "<div>\n",
       "<style scoped>\n",
       "    .dataframe tbody tr th:only-of-type {\n",
       "        vertical-align: middle;\n",
       "    }\n",
       "\n",
       "    .dataframe tbody tr th {\n",
       "        vertical-align: top;\n",
       "    }\n",
       "\n",
       "    .dataframe thead th {\n",
       "        text-align: right;\n",
       "    }\n",
       "</style>\n",
       "<table border=\"1\" class=\"dataframe\">\n",
       "  <thead>\n",
       "    <tr style=\"text-align: right;\">\n",
       "      <th></th>\n",
       "      <th>Gender</th>\n",
       "      <th>Ever_Married</th>\n",
       "      <th>Age</th>\n",
       "      <th>Graduated</th>\n",
       "      <th>Profession</th>\n",
       "      <th>Work_Experience</th>\n",
       "      <th>Spending_Score</th>\n",
       "      <th>Family_Size</th>\n",
       "      <th>Var_1</th>\n",
       "      <th>Segmentation</th>\n",
       "    </tr>\n",
       "  </thead>\n",
       "  <tbody>\n",
       "    <tr>\n",
       "      <th>0</th>\n",
       "      <td>Male</td>\n",
       "      <td>No</td>\n",
       "      <td>22</td>\n",
       "      <td>No</td>\n",
       "      <td>Healthcare</td>\n",
       "      <td>1.0</td>\n",
       "      <td>Low</td>\n",
       "      <td>4.0</td>\n",
       "      <td>Cat_4</td>\n",
       "      <td>D</td>\n",
       "    </tr>\n",
       "    <tr>\n",
       "      <th>1</th>\n",
       "      <td>Female</td>\n",
       "      <td>Yes</td>\n",
       "      <td>38</td>\n",
       "      <td>Yes</td>\n",
       "      <td>Engineer</td>\n",
       "      <td>1.0</td>\n",
       "      <td>Average</td>\n",
       "      <td>3.0</td>\n",
       "      <td>Cat_4</td>\n",
       "      <td>A</td>\n",
       "    </tr>\n",
       "    <tr>\n",
       "      <th>2</th>\n",
       "      <td>Female</td>\n",
       "      <td>Yes</td>\n",
       "      <td>67</td>\n",
       "      <td>Yes</td>\n",
       "      <td>Engineer</td>\n",
       "      <td>1.0</td>\n",
       "      <td>Low</td>\n",
       "      <td>1.0</td>\n",
       "      <td>Cat_6</td>\n",
       "      <td>B</td>\n",
       "    </tr>\n",
       "    <tr>\n",
       "      <th>3</th>\n",
       "      <td>Male</td>\n",
       "      <td>Yes</td>\n",
       "      <td>67</td>\n",
       "      <td>Yes</td>\n",
       "      <td>Lawyer</td>\n",
       "      <td>0.0</td>\n",
       "      <td>High</td>\n",
       "      <td>2.0</td>\n",
       "      <td>Cat_6</td>\n",
       "      <td>B</td>\n",
       "    </tr>\n",
       "    <tr>\n",
       "      <th>4</th>\n",
       "      <td>Female</td>\n",
       "      <td>Yes</td>\n",
       "      <td>40</td>\n",
       "      <td>Yes</td>\n",
       "      <td>Entertainment</td>\n",
       "      <td>1.0</td>\n",
       "      <td>High</td>\n",
       "      <td>6.0</td>\n",
       "      <td>Cat_6</td>\n",
       "      <td>A</td>\n",
       "    </tr>\n",
       "  </tbody>\n",
       "</table>\n",
       "</div>"
      ],
      "text/plain": [
       "   Gender Ever_Married  Age Graduated     Profession  Work_Experience  \\\n",
       "0    Male           No   22        No     Healthcare              1.0   \n",
       "1  Female          Yes   38       Yes       Engineer              1.0   \n",
       "2  Female          Yes   67       Yes       Engineer              1.0   \n",
       "3    Male          Yes   67       Yes         Lawyer              0.0   \n",
       "4  Female          Yes   40       Yes  Entertainment              1.0   \n",
       "\n",
       "  Spending_Score  Family_Size  Var_1 Segmentation  \n",
       "0            Low          4.0  Cat_4            D  \n",
       "1        Average          3.0  Cat_4            A  \n",
       "2            Low          1.0  Cat_6            B  \n",
       "3           High          2.0  Cat_6            B  \n",
       "4           High          6.0  Cat_6            A  "
      ]
     },
     "execution_count": 31,
     "metadata": {},
     "output_type": "execute_result"
    }
   ],
   "source": [
    "data.head()"
   ]
  },
  {
   "cell_type": "code",
   "execution_count": 32,
   "metadata": {
    "scrolled": true
   },
   "outputs": [
    {
     "data": {
      "text/plain": [
       "Gender              object\n",
       "Ever_Married        object\n",
       "Age                  int64\n",
       "Graduated           object\n",
       "Profession          object\n",
       "Work_Experience    float64\n",
       "Spending_Score      object\n",
       "Family_Size        float64\n",
       "Var_1               object\n",
       "Segmentation        object\n",
       "dtype: object"
      ]
     },
     "execution_count": 32,
     "metadata": {},
     "output_type": "execute_result"
    }
   ],
   "source": [
    "data.dtypes"
   ]
  },
  {
   "cell_type": "code",
   "execution_count": 33,
   "metadata": {},
   "outputs": [
    {
     "data": {
      "text/plain": [
       "Index(['Gender', 'Ever_Married', 'Graduated', 'Profession', 'Spending_Score',\n",
       "       'Var_1', 'Segmentation'],\n",
       "      dtype='object')"
      ]
     },
     "execution_count": 33,
     "metadata": {},
     "output_type": "execute_result"
    }
   ],
   "source": [
    "#selezione solo le colonne non numeriche\n",
    "non_numeric = data.select_dtypes('object')\n",
    "non_numeric.columns"
   ]
  },
  {
   "cell_type": "code",
   "execution_count": 34,
   "metadata": {},
   "outputs": [
    {
     "name": "stdout",
     "output_type": "stream",
     "text": [
      "Gender: ['Male' 'Female']\n",
      "Ever_Married: ['No' 'Yes']\n",
      "Graduated: ['No' 'Yes']\n",
      "Profession: ['Healthcare' 'Engineer' 'Lawyer' 'Entertainment' 'Artist' 'Executive'\n",
      " 'Doctor' 'Homemaker' 'Marketing']\n",
      "Spending_Score: ['Low' 'Average' 'High']\n",
      "Var_1: ['Cat_4' 'Cat_6' 'Cat_7' 'Cat_3' 'Cat_1' 'Cat_2' 'Cat_5']\n",
      "Segmentation: ['D' 'A' 'B' 'C']\n"
     ]
    }
   ],
   "source": [
    "#Valori unici per ogni colonna non numerica\n",
    "for column in non_numeric:\n",
    "    print(f\"{column}: {data[column].unique()}\")"
   ]
  },
  {
   "cell_type": "code",
   "execution_count": 35,
   "metadata": {
    "scrolled": true
   },
   "outputs": [
    {
     "data": {
      "text/html": [
       "<div>\n",
       "<style scoped>\n",
       "    .dataframe tbody tr th:only-of-type {\n",
       "        vertical-align: middle;\n",
       "    }\n",
       "\n",
       "    .dataframe tbody tr th {\n",
       "        vertical-align: top;\n",
       "    }\n",
       "\n",
       "    .dataframe thead th {\n",
       "        text-align: right;\n",
       "    }\n",
       "</style>\n",
       "<table border=\"1\" class=\"dataframe\">\n",
       "  <thead>\n",
       "    <tr style=\"text-align: right;\">\n",
       "      <th></th>\n",
       "      <th>Gender</th>\n",
       "      <th>Ever_Married</th>\n",
       "      <th>Age</th>\n",
       "      <th>Graduated</th>\n",
       "      <th>Work_Experience</th>\n",
       "      <th>Family_Size</th>\n",
       "      <th>Segmentation</th>\n",
       "      <th>Profession_Artist</th>\n",
       "      <th>Profession_Doctor</th>\n",
       "      <th>Profession_Engineer</th>\n",
       "      <th>...</th>\n",
       "      <th>Spending_Score_Average</th>\n",
       "      <th>Spending_Score_High</th>\n",
       "      <th>Spending_Score_Low</th>\n",
       "      <th>Var_1_Cat_1</th>\n",
       "      <th>Var_1_Cat_2</th>\n",
       "      <th>Var_1_Cat_3</th>\n",
       "      <th>Var_1_Cat_4</th>\n",
       "      <th>Var_1_Cat_5</th>\n",
       "      <th>Var_1_Cat_6</th>\n",
       "      <th>Var_1_Cat_7</th>\n",
       "    </tr>\n",
       "  </thead>\n",
       "  <tbody>\n",
       "    <tr>\n",
       "      <th>0</th>\n",
       "      <td>Male</td>\n",
       "      <td>No</td>\n",
       "      <td>22</td>\n",
       "      <td>No</td>\n",
       "      <td>1.0</td>\n",
       "      <td>4.0</td>\n",
       "      <td>D</td>\n",
       "      <td>0</td>\n",
       "      <td>0</td>\n",
       "      <td>0</td>\n",
       "      <td>...</td>\n",
       "      <td>0</td>\n",
       "      <td>0</td>\n",
       "      <td>1</td>\n",
       "      <td>0</td>\n",
       "      <td>0</td>\n",
       "      <td>0</td>\n",
       "      <td>1</td>\n",
       "      <td>0</td>\n",
       "      <td>0</td>\n",
       "      <td>0</td>\n",
       "    </tr>\n",
       "    <tr>\n",
       "      <th>1</th>\n",
       "      <td>Female</td>\n",
       "      <td>Yes</td>\n",
       "      <td>38</td>\n",
       "      <td>Yes</td>\n",
       "      <td>1.0</td>\n",
       "      <td>3.0</td>\n",
       "      <td>A</td>\n",
       "      <td>0</td>\n",
       "      <td>0</td>\n",
       "      <td>1</td>\n",
       "      <td>...</td>\n",
       "      <td>1</td>\n",
       "      <td>0</td>\n",
       "      <td>0</td>\n",
       "      <td>0</td>\n",
       "      <td>0</td>\n",
       "      <td>0</td>\n",
       "      <td>1</td>\n",
       "      <td>0</td>\n",
       "      <td>0</td>\n",
       "      <td>0</td>\n",
       "    </tr>\n",
       "    <tr>\n",
       "      <th>2</th>\n",
       "      <td>Female</td>\n",
       "      <td>Yes</td>\n",
       "      <td>67</td>\n",
       "      <td>Yes</td>\n",
       "      <td>1.0</td>\n",
       "      <td>1.0</td>\n",
       "      <td>B</td>\n",
       "      <td>0</td>\n",
       "      <td>0</td>\n",
       "      <td>1</td>\n",
       "      <td>...</td>\n",
       "      <td>0</td>\n",
       "      <td>0</td>\n",
       "      <td>1</td>\n",
       "      <td>0</td>\n",
       "      <td>0</td>\n",
       "      <td>0</td>\n",
       "      <td>0</td>\n",
       "      <td>0</td>\n",
       "      <td>1</td>\n",
       "      <td>0</td>\n",
       "    </tr>\n",
       "    <tr>\n",
       "      <th>3</th>\n",
       "      <td>Male</td>\n",
       "      <td>Yes</td>\n",
       "      <td>67</td>\n",
       "      <td>Yes</td>\n",
       "      <td>0.0</td>\n",
       "      <td>2.0</td>\n",
       "      <td>B</td>\n",
       "      <td>0</td>\n",
       "      <td>0</td>\n",
       "      <td>0</td>\n",
       "      <td>...</td>\n",
       "      <td>0</td>\n",
       "      <td>1</td>\n",
       "      <td>0</td>\n",
       "      <td>0</td>\n",
       "      <td>0</td>\n",
       "      <td>0</td>\n",
       "      <td>0</td>\n",
       "      <td>0</td>\n",
       "      <td>1</td>\n",
       "      <td>0</td>\n",
       "    </tr>\n",
       "    <tr>\n",
       "      <th>4</th>\n",
       "      <td>Female</td>\n",
       "      <td>Yes</td>\n",
       "      <td>40</td>\n",
       "      <td>Yes</td>\n",
       "      <td>1.0</td>\n",
       "      <td>6.0</td>\n",
       "      <td>A</td>\n",
       "      <td>0</td>\n",
       "      <td>0</td>\n",
       "      <td>0</td>\n",
       "      <td>...</td>\n",
       "      <td>0</td>\n",
       "      <td>1</td>\n",
       "      <td>0</td>\n",
       "      <td>0</td>\n",
       "      <td>0</td>\n",
       "      <td>0</td>\n",
       "      <td>0</td>\n",
       "      <td>0</td>\n",
       "      <td>1</td>\n",
       "      <td>0</td>\n",
       "    </tr>\n",
       "    <tr>\n",
       "      <th>...</th>\n",
       "      <td>...</td>\n",
       "      <td>...</td>\n",
       "      <td>...</td>\n",
       "      <td>...</td>\n",
       "      <td>...</td>\n",
       "      <td>...</td>\n",
       "      <td>...</td>\n",
       "      <td>...</td>\n",
       "      <td>...</td>\n",
       "      <td>...</td>\n",
       "      <td>...</td>\n",
       "      <td>...</td>\n",
       "      <td>...</td>\n",
       "      <td>...</td>\n",
       "      <td>...</td>\n",
       "      <td>...</td>\n",
       "      <td>...</td>\n",
       "      <td>...</td>\n",
       "      <td>...</td>\n",
       "      <td>...</td>\n",
       "      <td>...</td>\n",
       "    </tr>\n",
       "    <tr>\n",
       "      <th>2622</th>\n",
       "      <td>Male</td>\n",
       "      <td>No</td>\n",
       "      <td>29</td>\n",
       "      <td>No</td>\n",
       "      <td>9.0</td>\n",
       "      <td>4.0</td>\n",
       "      <td>B</td>\n",
       "      <td>0</td>\n",
       "      <td>0</td>\n",
       "      <td>0</td>\n",
       "      <td>...</td>\n",
       "      <td>0</td>\n",
       "      <td>0</td>\n",
       "      <td>1</td>\n",
       "      <td>0</td>\n",
       "      <td>0</td>\n",
       "      <td>0</td>\n",
       "      <td>0</td>\n",
       "      <td>0</td>\n",
       "      <td>1</td>\n",
       "      <td>0</td>\n",
       "    </tr>\n",
       "    <tr>\n",
       "      <th>2623</th>\n",
       "      <td>Female</td>\n",
       "      <td>No</td>\n",
       "      <td>35</td>\n",
       "      <td>Yes</td>\n",
       "      <td>1.0</td>\n",
       "      <td>1.0</td>\n",
       "      <td>A</td>\n",
       "      <td>0</td>\n",
       "      <td>1</td>\n",
       "      <td>0</td>\n",
       "      <td>...</td>\n",
       "      <td>0</td>\n",
       "      <td>0</td>\n",
       "      <td>1</td>\n",
       "      <td>0</td>\n",
       "      <td>0</td>\n",
       "      <td>0</td>\n",
       "      <td>0</td>\n",
       "      <td>0</td>\n",
       "      <td>1</td>\n",
       "      <td>0</td>\n",
       "    </tr>\n",
       "    <tr>\n",
       "      <th>2624</th>\n",
       "      <td>Female</td>\n",
       "      <td>No</td>\n",
       "      <td>53</td>\n",
       "      <td>Yes</td>\n",
       "      <td>1.0</td>\n",
       "      <td>2.0</td>\n",
       "      <td>C</td>\n",
       "      <td>0</td>\n",
       "      <td>0</td>\n",
       "      <td>0</td>\n",
       "      <td>...</td>\n",
       "      <td>0</td>\n",
       "      <td>0</td>\n",
       "      <td>1</td>\n",
       "      <td>0</td>\n",
       "      <td>0</td>\n",
       "      <td>0</td>\n",
       "      <td>0</td>\n",
       "      <td>0</td>\n",
       "      <td>1</td>\n",
       "      <td>0</td>\n",
       "    </tr>\n",
       "    <tr>\n",
       "      <th>2625</th>\n",
       "      <td>Male</td>\n",
       "      <td>Yes</td>\n",
       "      <td>47</td>\n",
       "      <td>Yes</td>\n",
       "      <td>1.0</td>\n",
       "      <td>5.0</td>\n",
       "      <td>C</td>\n",
       "      <td>0</td>\n",
       "      <td>0</td>\n",
       "      <td>0</td>\n",
       "      <td>...</td>\n",
       "      <td>0</td>\n",
       "      <td>1</td>\n",
       "      <td>0</td>\n",
       "      <td>0</td>\n",
       "      <td>0</td>\n",
       "      <td>0</td>\n",
       "      <td>1</td>\n",
       "      <td>0</td>\n",
       "      <td>0</td>\n",
       "      <td>0</td>\n",
       "    </tr>\n",
       "    <tr>\n",
       "      <th>2626</th>\n",
       "      <td>Female</td>\n",
       "      <td>No</td>\n",
       "      <td>43</td>\n",
       "      <td>Yes</td>\n",
       "      <td>9.0</td>\n",
       "      <td>3.0</td>\n",
       "      <td>A</td>\n",
       "      <td>0</td>\n",
       "      <td>0</td>\n",
       "      <td>0</td>\n",
       "      <td>...</td>\n",
       "      <td>0</td>\n",
       "      <td>0</td>\n",
       "      <td>1</td>\n",
       "      <td>0</td>\n",
       "      <td>0</td>\n",
       "      <td>0</td>\n",
       "      <td>0</td>\n",
       "      <td>0</td>\n",
       "      <td>0</td>\n",
       "      <td>1</td>\n",
       "    </tr>\n",
       "  </tbody>\n",
       "</table>\n",
       "<p>10390 rows × 26 columns</p>\n",
       "</div>"
      ],
      "text/plain": [
       "      Gender Ever_Married  Age Graduated  Work_Experience  Family_Size  \\\n",
       "0       Male           No   22        No              1.0          4.0   \n",
       "1     Female          Yes   38       Yes              1.0          3.0   \n",
       "2     Female          Yes   67       Yes              1.0          1.0   \n",
       "3       Male          Yes   67       Yes              0.0          2.0   \n",
       "4     Female          Yes   40       Yes              1.0          6.0   \n",
       "...      ...          ...  ...       ...              ...          ...   \n",
       "2622    Male           No   29        No              9.0          4.0   \n",
       "2623  Female           No   35       Yes              1.0          1.0   \n",
       "2624  Female           No   53       Yes              1.0          2.0   \n",
       "2625    Male          Yes   47       Yes              1.0          5.0   \n",
       "2626  Female           No   43       Yes              9.0          3.0   \n",
       "\n",
       "     Segmentation  Profession_Artist  Profession_Doctor  Profession_Engineer  \\\n",
       "0               D                  0                  0                    0   \n",
       "1               A                  0                  0                    1   \n",
       "2               B                  0                  0                    1   \n",
       "3               B                  0                  0                    0   \n",
       "4               A                  0                  0                    0   \n",
       "...           ...                ...                ...                  ...   \n",
       "2622            B                  0                  0                    0   \n",
       "2623            A                  0                  1                    0   \n",
       "2624            C                  0                  0                    0   \n",
       "2625            C                  0                  0                    0   \n",
       "2626            A                  0                  0                    0   \n",
       "\n",
       "      ...  Spending_Score_Average  Spending_Score_High  Spending_Score_Low  \\\n",
       "0     ...                       0                    0                   1   \n",
       "1     ...                       1                    0                   0   \n",
       "2     ...                       0                    0                   1   \n",
       "3     ...                       0                    1                   0   \n",
       "4     ...                       0                    1                   0   \n",
       "...   ...                     ...                  ...                 ...   \n",
       "2622  ...                       0                    0                   1   \n",
       "2623  ...                       0                    0                   1   \n",
       "2624  ...                       0                    0                   1   \n",
       "2625  ...                       0                    1                   0   \n",
       "2626  ...                       0                    0                   1   \n",
       "\n",
       "      Var_1_Cat_1  Var_1_Cat_2  Var_1_Cat_3  Var_1_Cat_4  Var_1_Cat_5  \\\n",
       "0               0            0            0            1            0   \n",
       "1               0            0            0            1            0   \n",
       "2               0            0            0            0            0   \n",
       "3               0            0            0            0            0   \n",
       "4               0            0            0            0            0   \n",
       "...           ...          ...          ...          ...          ...   \n",
       "2622            0            0            0            0            0   \n",
       "2623            0            0            0            0            0   \n",
       "2624            0            0            0            0            0   \n",
       "2625            0            0            0            1            0   \n",
       "2626            0            0            0            0            0   \n",
       "\n",
       "      Var_1_Cat_6  Var_1_Cat_7  \n",
       "0               0            0  \n",
       "1               0            0  \n",
       "2               1            0  \n",
       "3               1            0  \n",
       "4               1            0  \n",
       "...           ...          ...  \n",
       "2622            1            0  \n",
       "2623            1            0  \n",
       "2624            1            0  \n",
       "2625            0            0  \n",
       "2626            0            1  \n",
       "\n",
       "[10390 rows x 26 columns]"
      ]
     },
     "execution_count": 35,
     "metadata": {},
     "output_type": "execute_result"
    }
   ],
   "source": [
    "#Codifica one hot\n",
    "data = pd.get_dummies(data, columns=['Profession','Spending_Score', 'Var_1'])\n",
    "data"
   ]
  },
  {
   "cell_type": "markdown",
   "metadata": {},
   "source": [
    "A questo punto ci restano soltanto le variabili binarie e la variabile target (che non posso convertire con la codifica one hot) che possiamo convertire utilizzando LabelEncoder. Come prima cosa riselezioniamo le colonne non numeriche che sono rimaste dopo la prima trasformazione."
   ]
  },
  {
   "cell_type": "code",
   "execution_count": 36,
   "metadata": {},
   "outputs": [
    {
     "data": {
      "text/plain": [
       "Index(['Gender', 'Ever_Married', 'Graduated', 'Segmentation'], dtype='object')"
      ]
     },
     "execution_count": 36,
     "metadata": {},
     "output_type": "execute_result"
    }
   ],
   "source": [
    "non_numeric = data.select_dtypes('object')\n",
    "non_numeric.columns"
   ]
  },
  {
   "cell_type": "code",
   "execution_count": 37,
   "metadata": {},
   "outputs": [],
   "source": [
    "encoder=LabelEncoder()\n",
    "\n",
    "#Converto le colonne binarie\n",
    "for column in non_numeric:\n",
    "    data[column] = encoder.fit_transform(data[column])"
   ]
  },
  {
   "cell_type": "code",
   "execution_count": 38,
   "metadata": {},
   "outputs": [
    {
     "data": {
      "text/plain": [
       "Gender                        int32\n",
       "Ever_Married                  int32\n",
       "Age                           int64\n",
       "Graduated                     int32\n",
       "Work_Experience             float64\n",
       "Family_Size                 float64\n",
       "Segmentation                  int32\n",
       "Profession_Artist             uint8\n",
       "Profession_Doctor             uint8\n",
       "Profession_Engineer           uint8\n",
       "Profession_Entertainment      uint8\n",
       "Profession_Executive          uint8\n",
       "Profession_Healthcare         uint8\n",
       "Profession_Homemaker          uint8\n",
       "Profession_Lawyer             uint8\n",
       "Profession_Marketing          uint8\n",
       "Spending_Score_Average        uint8\n",
       "Spending_Score_High           uint8\n",
       "Spending_Score_Low            uint8\n",
       "Var_1_Cat_1                   uint8\n",
       "Var_1_Cat_2                   uint8\n",
       "Var_1_Cat_3                   uint8\n",
       "Var_1_Cat_4                   uint8\n",
       "Var_1_Cat_5                   uint8\n",
       "Var_1_Cat_6                   uint8\n",
       "Var_1_Cat_7                   uint8\n",
       "dtype: object"
      ]
     },
     "execution_count": 38,
     "metadata": {},
     "output_type": "execute_result"
    }
   ],
   "source": [
    "data.dtypes"
   ]
  },
  {
   "cell_type": "markdown",
   "metadata": {},
   "source": [
    "Adesso le variabili sono tutte numeriche e possono essere usate in un modello di machine learning"
   ]
  },
  {
   "cell_type": "markdown",
   "metadata": {},
   "source": [
    "## Split"
   ]
  },
  {
   "cell_type": "markdown",
   "metadata": {},
   "source": [
    "La nostra variabile target è il segmento di appartenenza dei clienti. "
   ]
  },
  {
   "cell_type": "code",
   "execution_count": 39,
   "metadata": {},
   "outputs": [],
   "source": [
    "y = data['Segmentation'].copy()"
   ]
  },
  {
   "cell_type": "code",
   "execution_count": 40,
   "metadata": {},
   "outputs": [],
   "source": [
    "X = data.drop('Segmentation', axis=1)"
   ]
  },
  {
   "cell_type": "code",
   "execution_count": 41,
   "metadata": {},
   "outputs": [],
   "source": [
    "X_train, X_test, y_train, y_test = train_test_split(X, y, train_size=0.7, random_state=42)"
   ]
  },
  {
   "cell_type": "code",
   "execution_count": 42,
   "metadata": {},
   "outputs": [
    {
     "name": "stdout",
     "output_type": "stream",
     "text": [
      "X_train shape : (7272, 25)\n",
      "y_train shape : (7272,)\n",
      "X_test shape : (3118, 25)\n",
      "y_test shape : (3118,)\n"
     ]
    }
   ],
   "source": [
    "print('X_train shape : {}'.format(X_train.shape))\n",
    "print('y_train shape : {}'.format(y_train.shape))\n",
    "print('X_test shape : {}'.format(X_test.shape))\n",
    "print('y_test shape : {}'.format(y_test.shape))"
   ]
  },
  {
   "cell_type": "markdown",
   "metadata": {},
   "source": [
    "## Scaling"
   ]
  },
  {
   "cell_type": "markdown",
   "metadata": {},
   "source": [
    "Utilizzo **Standard Scaler** per scalare i dati "
   ]
  },
  {
   "cell_type": "code",
   "execution_count": 43,
   "metadata": {},
   "outputs": [],
   "source": [
    "scaler = StandardScaler()\n",
    "#fit_transform per il train test\n",
    "X_train = pd.DataFrame(scaler.fit_transform(X_train), columns = X_train.columns)\n",
    "#transform per il test set\n",
    "X_test = pd.DataFrame(scaler.transform(X_test), columns = X_test.columns)"
   ]
  },
  {
   "cell_type": "code",
   "execution_count": 44,
   "metadata": {
    "scrolled": false
   },
   "outputs": [
    {
     "data": {
      "text/html": [
       "<div>\n",
       "<style scoped>\n",
       "    .dataframe tbody tr th:only-of-type {\n",
       "        vertical-align: middle;\n",
       "    }\n",
       "\n",
       "    .dataframe tbody tr th {\n",
       "        vertical-align: top;\n",
       "    }\n",
       "\n",
       "    .dataframe thead th {\n",
       "        text-align: right;\n",
       "    }\n",
       "</style>\n",
       "<table border=\"1\" class=\"dataframe\">\n",
       "  <thead>\n",
       "    <tr style=\"text-align: right;\">\n",
       "      <th></th>\n",
       "      <th>Gender</th>\n",
       "      <th>Ever_Married</th>\n",
       "      <th>Age</th>\n",
       "      <th>Graduated</th>\n",
       "      <th>Work_Experience</th>\n",
       "      <th>Family_Size</th>\n",
       "      <th>Profession_Artist</th>\n",
       "      <th>Profession_Doctor</th>\n",
       "      <th>Profession_Engineer</th>\n",
       "      <th>Profession_Entertainment</th>\n",
       "      <th>...</th>\n",
       "      <th>Spending_Score_Average</th>\n",
       "      <th>Spending_Score_High</th>\n",
       "      <th>Spending_Score_Low</th>\n",
       "      <th>Var_1_Cat_1</th>\n",
       "      <th>Var_1_Cat_2</th>\n",
       "      <th>Var_1_Cat_3</th>\n",
       "      <th>Var_1_Cat_4</th>\n",
       "      <th>Var_1_Cat_5</th>\n",
       "      <th>Var_1_Cat_6</th>\n",
       "      <th>Var_1_Cat_7</th>\n",
       "    </tr>\n",
       "  </thead>\n",
       "  <tbody>\n",
       "    <tr>\n",
       "      <th>0</th>\n",
       "      <td>0.917322</td>\n",
       "      <td>0.864186</td>\n",
       "      <td>-0.750059</td>\n",
       "      <td>0.784399</td>\n",
       "      <td>1.380336</td>\n",
       "      <td>-0.524825</td>\n",
       "      <td>-0.681438</td>\n",
       "      <td>-0.312241</td>\n",
       "      <td>-0.312241</td>\n",
       "      <td>-0.364778</td>\n",
       "      <td>...</td>\n",
       "      <td>-0.563799</td>\n",
       "      <td>-0.416499</td>\n",
       "      <td>0.797955</td>\n",
       "      <td>-0.131169</td>\n",
       "      <td>-0.241262</td>\n",
       "      <td>-0.333028</td>\n",
       "      <td>-0.399529</td>\n",
       "      <td>-0.10345</td>\n",
       "      <td>0.720936</td>\n",
       "      <td>-0.149991</td>\n",
       "    </tr>\n",
       "    <tr>\n",
       "      <th>1</th>\n",
       "      <td>-1.090130</td>\n",
       "      <td>-1.157158</td>\n",
       "      <td>-1.350768</td>\n",
       "      <td>-1.274861</td>\n",
       "      <td>-0.758618</td>\n",
       "      <td>-0.524825</td>\n",
       "      <td>-0.681438</td>\n",
       "      <td>-0.312241</td>\n",
       "      <td>-0.312241</td>\n",
       "      <td>-0.364778</td>\n",
       "      <td>...</td>\n",
       "      <td>-0.563799</td>\n",
       "      <td>-0.416499</td>\n",
       "      <td>0.797955</td>\n",
       "      <td>-0.131169</td>\n",
       "      <td>-0.241262</td>\n",
       "      <td>-0.333028</td>\n",
       "      <td>2.502945</td>\n",
       "      <td>-0.10345</td>\n",
       "      <td>-1.387085</td>\n",
       "      <td>-0.149991</td>\n",
       "    </tr>\n",
       "    <tr>\n",
       "      <th>2</th>\n",
       "      <td>0.917322</td>\n",
       "      <td>0.864186</td>\n",
       "      <td>0.090932</td>\n",
       "      <td>-1.274861</td>\n",
       "      <td>-0.453053</td>\n",
       "      <td>0.139265</td>\n",
       "      <td>1.467485</td>\n",
       "      <td>-0.312241</td>\n",
       "      <td>-0.312241</td>\n",
       "      <td>-0.364778</td>\n",
       "      <td>...</td>\n",
       "      <td>1.773683</td>\n",
       "      <td>-0.416499</td>\n",
       "      <td>-1.253204</td>\n",
       "      <td>-0.131169</td>\n",
       "      <td>-0.241262</td>\n",
       "      <td>-0.333028</td>\n",
       "      <td>-0.399529</td>\n",
       "      <td>-0.10345</td>\n",
       "      <td>0.720936</td>\n",
       "      <td>-0.149991</td>\n",
       "    </tr>\n",
       "    <tr>\n",
       "      <th>3</th>\n",
       "      <td>0.917322</td>\n",
       "      <td>-1.157158</td>\n",
       "      <td>-0.689989</td>\n",
       "      <td>-1.274861</td>\n",
       "      <td>-0.758618</td>\n",
       "      <td>-1.188915</td>\n",
       "      <td>-0.681438</td>\n",
       "      <td>-0.312241</td>\n",
       "      <td>-0.312241</td>\n",
       "      <td>2.741391</td>\n",
       "      <td>...</td>\n",
       "      <td>-0.563799</td>\n",
       "      <td>-0.416499</td>\n",
       "      <td>0.797955</td>\n",
       "      <td>-0.131169</td>\n",
       "      <td>-0.241262</td>\n",
       "      <td>-0.333028</td>\n",
       "      <td>-0.399529</td>\n",
       "      <td>-0.10345</td>\n",
       "      <td>0.720936</td>\n",
       "      <td>-0.149991</td>\n",
       "    </tr>\n",
       "    <tr>\n",
       "      <th>4</th>\n",
       "      <td>-1.090130</td>\n",
       "      <td>-1.157158</td>\n",
       "      <td>-0.209422</td>\n",
       "      <td>0.784399</td>\n",
       "      <td>1.074771</td>\n",
       "      <td>-0.524825</td>\n",
       "      <td>-0.681438</td>\n",
       "      <td>-0.312241</td>\n",
       "      <td>-0.312241</td>\n",
       "      <td>-0.364778</td>\n",
       "      <td>...</td>\n",
       "      <td>-0.563799</td>\n",
       "      <td>-0.416499</td>\n",
       "      <td>0.797955</td>\n",
       "      <td>-0.131169</td>\n",
       "      <td>-0.241262</td>\n",
       "      <td>-0.333028</td>\n",
       "      <td>-0.399529</td>\n",
       "      <td>-0.10345</td>\n",
       "      <td>0.720936</td>\n",
       "      <td>-0.149991</td>\n",
       "    </tr>\n",
       "    <tr>\n",
       "      <th>...</th>\n",
       "      <td>...</td>\n",
       "      <td>...</td>\n",
       "      <td>...</td>\n",
       "      <td>...</td>\n",
       "      <td>...</td>\n",
       "      <td>...</td>\n",
       "      <td>...</td>\n",
       "      <td>...</td>\n",
       "      <td>...</td>\n",
       "      <td>...</td>\n",
       "      <td>...</td>\n",
       "      <td>...</td>\n",
       "      <td>...</td>\n",
       "      <td>...</td>\n",
       "      <td>...</td>\n",
       "      <td>...</td>\n",
       "      <td>...</td>\n",
       "      <td>...</td>\n",
       "      <td>...</td>\n",
       "      <td>...</td>\n",
       "      <td>...</td>\n",
       "    </tr>\n",
       "    <tr>\n",
       "      <th>7267</th>\n",
       "      <td>0.917322</td>\n",
       "      <td>0.864186</td>\n",
       "      <td>0.391287</td>\n",
       "      <td>-1.274861</td>\n",
       "      <td>-0.453053</td>\n",
       "      <td>0.139265</td>\n",
       "      <td>-0.681438</td>\n",
       "      <td>-0.312241</td>\n",
       "      <td>-0.312241</td>\n",
       "      <td>2.741391</td>\n",
       "      <td>...</td>\n",
       "      <td>1.773683</td>\n",
       "      <td>-0.416499</td>\n",
       "      <td>-1.253204</td>\n",
       "      <td>-0.131169</td>\n",
       "      <td>-0.241262</td>\n",
       "      <td>-0.333028</td>\n",
       "      <td>-0.399529</td>\n",
       "      <td>-0.10345</td>\n",
       "      <td>0.720936</td>\n",
       "      <td>-0.149991</td>\n",
       "    </tr>\n",
       "    <tr>\n",
       "      <th>7268</th>\n",
       "      <td>-1.090130</td>\n",
       "      <td>-1.157158</td>\n",
       "      <td>-0.750059</td>\n",
       "      <td>0.784399</td>\n",
       "      <td>1.991466</td>\n",
       "      <td>-1.188915</td>\n",
       "      <td>-0.681438</td>\n",
       "      <td>-0.312241</td>\n",
       "      <td>-0.312241</td>\n",
       "      <td>-0.364778</td>\n",
       "      <td>...</td>\n",
       "      <td>-0.563799</td>\n",
       "      <td>-0.416499</td>\n",
       "      <td>0.797955</td>\n",
       "      <td>-0.131169</td>\n",
       "      <td>-0.241262</td>\n",
       "      <td>-0.333028</td>\n",
       "      <td>-0.399529</td>\n",
       "      <td>-0.10345</td>\n",
       "      <td>0.720936</td>\n",
       "      <td>-0.149991</td>\n",
       "    </tr>\n",
       "    <tr>\n",
       "      <th>7269</th>\n",
       "      <td>0.917322</td>\n",
       "      <td>-1.157158</td>\n",
       "      <td>-0.930272</td>\n",
       "      <td>-1.274861</td>\n",
       "      <td>-0.453053</td>\n",
       "      <td>-0.524825</td>\n",
       "      <td>-0.681438</td>\n",
       "      <td>-0.312241</td>\n",
       "      <td>-0.312241</td>\n",
       "      <td>2.741391</td>\n",
       "      <td>...</td>\n",
       "      <td>-0.563799</td>\n",
       "      <td>-0.416499</td>\n",
       "      <td>0.797955</td>\n",
       "      <td>-0.131169</td>\n",
       "      <td>-0.241262</td>\n",
       "      <td>-0.333028</td>\n",
       "      <td>-0.399529</td>\n",
       "      <td>-0.10345</td>\n",
       "      <td>0.720936</td>\n",
       "      <td>-0.149991</td>\n",
       "    </tr>\n",
       "    <tr>\n",
       "      <th>7270</th>\n",
       "      <td>0.917322</td>\n",
       "      <td>0.864186</td>\n",
       "      <td>-0.149351</td>\n",
       "      <td>-1.274861</td>\n",
       "      <td>1.074771</td>\n",
       "      <td>0.139265</td>\n",
       "      <td>-0.681438</td>\n",
       "      <td>-0.312241</td>\n",
       "      <td>-0.312241</td>\n",
       "      <td>-0.364778</td>\n",
       "      <td>...</td>\n",
       "      <td>-0.563799</td>\n",
       "      <td>2.400969</td>\n",
       "      <td>-1.253204</td>\n",
       "      <td>-0.131169</td>\n",
       "      <td>-0.241262</td>\n",
       "      <td>-0.333028</td>\n",
       "      <td>2.502945</td>\n",
       "      <td>-0.10345</td>\n",
       "      <td>-1.387085</td>\n",
       "      <td>-0.149991</td>\n",
       "    </tr>\n",
       "    <tr>\n",
       "      <th>7271</th>\n",
       "      <td>0.917322</td>\n",
       "      <td>-1.157158</td>\n",
       "      <td>-1.530980</td>\n",
       "      <td>-1.274861</td>\n",
       "      <td>1.074771</td>\n",
       "      <td>0.803356</td>\n",
       "      <td>-0.681438</td>\n",
       "      <td>-0.312241</td>\n",
       "      <td>-0.312241</td>\n",
       "      <td>-0.364778</td>\n",
       "      <td>...</td>\n",
       "      <td>-0.563799</td>\n",
       "      <td>-0.416499</td>\n",
       "      <td>0.797955</td>\n",
       "      <td>-0.131169</td>\n",
       "      <td>-0.241262</td>\n",
       "      <td>-0.333028</td>\n",
       "      <td>-0.399529</td>\n",
       "      <td>-0.10345</td>\n",
       "      <td>0.720936</td>\n",
       "      <td>-0.149991</td>\n",
       "    </tr>\n",
       "  </tbody>\n",
       "</table>\n",
       "<p>7272 rows × 25 columns</p>\n",
       "</div>"
      ],
      "text/plain": [
       "        Gender  Ever_Married       Age  Graduated  Work_Experience  \\\n",
       "0     0.917322      0.864186 -0.750059   0.784399         1.380336   \n",
       "1    -1.090130     -1.157158 -1.350768  -1.274861        -0.758618   \n",
       "2     0.917322      0.864186  0.090932  -1.274861        -0.453053   \n",
       "3     0.917322     -1.157158 -0.689989  -1.274861        -0.758618   \n",
       "4    -1.090130     -1.157158 -0.209422   0.784399         1.074771   \n",
       "...        ...           ...       ...        ...              ...   \n",
       "7267  0.917322      0.864186  0.391287  -1.274861        -0.453053   \n",
       "7268 -1.090130     -1.157158 -0.750059   0.784399         1.991466   \n",
       "7269  0.917322     -1.157158 -0.930272  -1.274861        -0.453053   \n",
       "7270  0.917322      0.864186 -0.149351  -1.274861         1.074771   \n",
       "7271  0.917322     -1.157158 -1.530980  -1.274861         1.074771   \n",
       "\n",
       "      Family_Size  Profession_Artist  Profession_Doctor  Profession_Engineer  \\\n",
       "0       -0.524825          -0.681438          -0.312241            -0.312241   \n",
       "1       -0.524825          -0.681438          -0.312241            -0.312241   \n",
       "2        0.139265           1.467485          -0.312241            -0.312241   \n",
       "3       -1.188915          -0.681438          -0.312241            -0.312241   \n",
       "4       -0.524825          -0.681438          -0.312241            -0.312241   \n",
       "...           ...                ...                ...                  ...   \n",
       "7267     0.139265          -0.681438          -0.312241            -0.312241   \n",
       "7268    -1.188915          -0.681438          -0.312241            -0.312241   \n",
       "7269    -0.524825          -0.681438          -0.312241            -0.312241   \n",
       "7270     0.139265          -0.681438          -0.312241            -0.312241   \n",
       "7271     0.803356          -0.681438          -0.312241            -0.312241   \n",
       "\n",
       "      Profession_Entertainment  ...  Spending_Score_Average  \\\n",
       "0                    -0.364778  ...               -0.563799   \n",
       "1                    -0.364778  ...               -0.563799   \n",
       "2                    -0.364778  ...                1.773683   \n",
       "3                     2.741391  ...               -0.563799   \n",
       "4                    -0.364778  ...               -0.563799   \n",
       "...                        ...  ...                     ...   \n",
       "7267                  2.741391  ...                1.773683   \n",
       "7268                 -0.364778  ...               -0.563799   \n",
       "7269                  2.741391  ...               -0.563799   \n",
       "7270                 -0.364778  ...               -0.563799   \n",
       "7271                 -0.364778  ...               -0.563799   \n",
       "\n",
       "      Spending_Score_High  Spending_Score_Low  Var_1_Cat_1  Var_1_Cat_2  \\\n",
       "0               -0.416499            0.797955    -0.131169    -0.241262   \n",
       "1               -0.416499            0.797955    -0.131169    -0.241262   \n",
       "2               -0.416499           -1.253204    -0.131169    -0.241262   \n",
       "3               -0.416499            0.797955    -0.131169    -0.241262   \n",
       "4               -0.416499            0.797955    -0.131169    -0.241262   \n",
       "...                   ...                 ...          ...          ...   \n",
       "7267            -0.416499           -1.253204    -0.131169    -0.241262   \n",
       "7268            -0.416499            0.797955    -0.131169    -0.241262   \n",
       "7269            -0.416499            0.797955    -0.131169    -0.241262   \n",
       "7270             2.400969           -1.253204    -0.131169    -0.241262   \n",
       "7271            -0.416499            0.797955    -0.131169    -0.241262   \n",
       "\n",
       "      Var_1_Cat_3  Var_1_Cat_4  Var_1_Cat_5  Var_1_Cat_6  Var_1_Cat_7  \n",
       "0       -0.333028    -0.399529     -0.10345     0.720936    -0.149991  \n",
       "1       -0.333028     2.502945     -0.10345    -1.387085    -0.149991  \n",
       "2       -0.333028    -0.399529     -0.10345     0.720936    -0.149991  \n",
       "3       -0.333028    -0.399529     -0.10345     0.720936    -0.149991  \n",
       "4       -0.333028    -0.399529     -0.10345     0.720936    -0.149991  \n",
       "...           ...          ...          ...          ...          ...  \n",
       "7267    -0.333028    -0.399529     -0.10345     0.720936    -0.149991  \n",
       "7268    -0.333028    -0.399529     -0.10345     0.720936    -0.149991  \n",
       "7269    -0.333028    -0.399529     -0.10345     0.720936    -0.149991  \n",
       "7270    -0.333028     2.502945     -0.10345    -1.387085    -0.149991  \n",
       "7271    -0.333028    -0.399529     -0.10345     0.720936    -0.149991  \n",
       "\n",
       "[7272 rows x 25 columns]"
      ]
     },
     "execution_count": 44,
     "metadata": {},
     "output_type": "execute_result"
    }
   ],
   "source": [
    "X_train"
   ]
  },
  {
   "cell_type": "code",
   "execution_count": 45,
   "metadata": {
    "scrolled": true
   },
   "outputs": [
    {
     "data": {
      "text/html": [
       "<div>\n",
       "<style scoped>\n",
       "    .dataframe tbody tr th:only-of-type {\n",
       "        vertical-align: middle;\n",
       "    }\n",
       "\n",
       "    .dataframe tbody tr th {\n",
       "        vertical-align: top;\n",
       "    }\n",
       "\n",
       "    .dataframe thead th {\n",
       "        text-align: right;\n",
       "    }\n",
       "</style>\n",
       "<table border=\"1\" class=\"dataframe\">\n",
       "  <thead>\n",
       "    <tr style=\"text-align: right;\">\n",
       "      <th></th>\n",
       "      <th>Gender</th>\n",
       "      <th>Ever_Married</th>\n",
       "      <th>Age</th>\n",
       "      <th>Graduated</th>\n",
       "      <th>Work_Experience</th>\n",
       "      <th>Family_Size</th>\n",
       "      <th>Profession_Artist</th>\n",
       "      <th>Profession_Doctor</th>\n",
       "      <th>Profession_Engineer</th>\n",
       "      <th>Profession_Entertainment</th>\n",
       "      <th>...</th>\n",
       "      <th>Spending_Score_Average</th>\n",
       "      <th>Spending_Score_High</th>\n",
       "      <th>Spending_Score_Low</th>\n",
       "      <th>Var_1_Cat_1</th>\n",
       "      <th>Var_1_Cat_2</th>\n",
       "      <th>Var_1_Cat_3</th>\n",
       "      <th>Var_1_Cat_4</th>\n",
       "      <th>Var_1_Cat_5</th>\n",
       "      <th>Var_1_Cat_6</th>\n",
       "      <th>Var_1_Cat_7</th>\n",
       "    </tr>\n",
       "  </thead>\n",
       "  <tbody>\n",
       "    <tr>\n",
       "      <th>0</th>\n",
       "      <td>-1.090130</td>\n",
       "      <td>-1.157158</td>\n",
       "      <td>-0.029209</td>\n",
       "      <td>0.784399</td>\n",
       "      <td>-0.453053</td>\n",
       "      <td>-0.524825</td>\n",
       "      <td>1.467485</td>\n",
       "      <td>-0.312241</td>\n",
       "      <td>-0.312241</td>\n",
       "      <td>-0.364778</td>\n",
       "      <td>...</td>\n",
       "      <td>-0.563799</td>\n",
       "      <td>-0.416499</td>\n",
       "      <td>0.797955</td>\n",
       "      <td>-0.131169</td>\n",
       "      <td>-0.241262</td>\n",
       "      <td>-0.333028</td>\n",
       "      <td>-0.399529</td>\n",
       "      <td>-0.10345</td>\n",
       "      <td>0.720936</td>\n",
       "      <td>-0.149991</td>\n",
       "    </tr>\n",
       "    <tr>\n",
       "      <th>1</th>\n",
       "      <td>-1.090130</td>\n",
       "      <td>-1.157158</td>\n",
       "      <td>-0.509776</td>\n",
       "      <td>0.784399</td>\n",
       "      <td>1.991466</td>\n",
       "      <td>-1.188915</td>\n",
       "      <td>-0.681438</td>\n",
       "      <td>-0.312241</td>\n",
       "      <td>-0.312241</td>\n",
       "      <td>-0.364778</td>\n",
       "      <td>...</td>\n",
       "      <td>-0.563799</td>\n",
       "      <td>-0.416499</td>\n",
       "      <td>0.797955</td>\n",
       "      <td>-0.131169</td>\n",
       "      <td>-0.241262</td>\n",
       "      <td>-0.333028</td>\n",
       "      <td>-0.399529</td>\n",
       "      <td>-0.10345</td>\n",
       "      <td>0.720936</td>\n",
       "      <td>-0.149991</td>\n",
       "    </tr>\n",
       "    <tr>\n",
       "      <th>2</th>\n",
       "      <td>-1.090130</td>\n",
       "      <td>0.864186</td>\n",
       "      <td>1.292349</td>\n",
       "      <td>0.784399</td>\n",
       "      <td>-0.758618</td>\n",
       "      <td>-0.524825</td>\n",
       "      <td>1.467485</td>\n",
       "      <td>-0.312241</td>\n",
       "      <td>-0.312241</td>\n",
       "      <td>-0.364778</td>\n",
       "      <td>...</td>\n",
       "      <td>-0.563799</td>\n",
       "      <td>-0.416499</td>\n",
       "      <td>0.797955</td>\n",
       "      <td>-0.131169</td>\n",
       "      <td>-0.241262</td>\n",
       "      <td>-0.333028</td>\n",
       "      <td>-0.399529</td>\n",
       "      <td>-0.10345</td>\n",
       "      <td>0.720936</td>\n",
       "      <td>-0.149991</td>\n",
       "    </tr>\n",
       "    <tr>\n",
       "      <th>3</th>\n",
       "      <td>0.917322</td>\n",
       "      <td>-1.157158</td>\n",
       "      <td>-0.870201</td>\n",
       "      <td>-1.274861</td>\n",
       "      <td>-0.453053</td>\n",
       "      <td>0.803356</td>\n",
       "      <td>-0.681438</td>\n",
       "      <td>3.202650</td>\n",
       "      <td>-0.312241</td>\n",
       "      <td>-0.364778</td>\n",
       "      <td>...</td>\n",
       "      <td>-0.563799</td>\n",
       "      <td>-0.416499</td>\n",
       "      <td>0.797955</td>\n",
       "      <td>-0.131169</td>\n",
       "      <td>-0.241262</td>\n",
       "      <td>-0.333028</td>\n",
       "      <td>-0.399529</td>\n",
       "      <td>-0.10345</td>\n",
       "      <td>0.720936</td>\n",
       "      <td>-0.149991</td>\n",
       "    </tr>\n",
       "    <tr>\n",
       "      <th>4</th>\n",
       "      <td>0.917322</td>\n",
       "      <td>-1.157158</td>\n",
       "      <td>-1.470909</td>\n",
       "      <td>-1.274861</td>\n",
       "      <td>3.213725</td>\n",
       "      <td>0.139265</td>\n",
       "      <td>-0.681438</td>\n",
       "      <td>-0.312241</td>\n",
       "      <td>-0.312241</td>\n",
       "      <td>-0.364778</td>\n",
       "      <td>...</td>\n",
       "      <td>-0.563799</td>\n",
       "      <td>-0.416499</td>\n",
       "      <td>0.797955</td>\n",
       "      <td>-0.131169</td>\n",
       "      <td>-0.241262</td>\n",
       "      <td>-0.333028</td>\n",
       "      <td>-0.399529</td>\n",
       "      <td>-0.10345</td>\n",
       "      <td>-1.387085</td>\n",
       "      <td>6.667083</td>\n",
       "    </tr>\n",
       "    <tr>\n",
       "      <th>...</th>\n",
       "      <td>...</td>\n",
       "      <td>...</td>\n",
       "      <td>...</td>\n",
       "      <td>...</td>\n",
       "      <td>...</td>\n",
       "      <td>...</td>\n",
       "      <td>...</td>\n",
       "      <td>...</td>\n",
       "      <td>...</td>\n",
       "      <td>...</td>\n",
       "      <td>...</td>\n",
       "      <td>...</td>\n",
       "      <td>...</td>\n",
       "      <td>...</td>\n",
       "      <td>...</td>\n",
       "      <td>...</td>\n",
       "      <td>...</td>\n",
       "      <td>...</td>\n",
       "      <td>...</td>\n",
       "      <td>...</td>\n",
       "      <td>...</td>\n",
       "    </tr>\n",
       "    <tr>\n",
       "      <th>3113</th>\n",
       "      <td>0.917322</td>\n",
       "      <td>-1.157158</td>\n",
       "      <td>-1.110484</td>\n",
       "      <td>0.784399</td>\n",
       "      <td>1.685901</td>\n",
       "      <td>-1.188915</td>\n",
       "      <td>-0.681438</td>\n",
       "      <td>3.202650</td>\n",
       "      <td>-0.312241</td>\n",
       "      <td>-0.364778</td>\n",
       "      <td>...</td>\n",
       "      <td>-0.563799</td>\n",
       "      <td>-0.416499</td>\n",
       "      <td>0.797955</td>\n",
       "      <td>-0.131169</td>\n",
       "      <td>-0.241262</td>\n",
       "      <td>-0.333028</td>\n",
       "      <td>-0.399529</td>\n",
       "      <td>-0.10345</td>\n",
       "      <td>0.720936</td>\n",
       "      <td>-0.149991</td>\n",
       "    </tr>\n",
       "    <tr>\n",
       "      <th>3114</th>\n",
       "      <td>0.917322</td>\n",
       "      <td>0.864186</td>\n",
       "      <td>-0.629918</td>\n",
       "      <td>-1.274861</td>\n",
       "      <td>-0.758618</td>\n",
       "      <td>-0.524825</td>\n",
       "      <td>-0.681438</td>\n",
       "      <td>-0.312241</td>\n",
       "      <td>3.202650</td>\n",
       "      <td>-0.364778</td>\n",
       "      <td>...</td>\n",
       "      <td>1.773683</td>\n",
       "      <td>-0.416499</td>\n",
       "      <td>-1.253204</td>\n",
       "      <td>-0.131169</td>\n",
       "      <td>-0.241262</td>\n",
       "      <td>-0.333028</td>\n",
       "      <td>-0.399529</td>\n",
       "      <td>-0.10345</td>\n",
       "      <td>0.720936</td>\n",
       "      <td>-0.149991</td>\n",
       "    </tr>\n",
       "    <tr>\n",
       "      <th>3115</th>\n",
       "      <td>0.917322</td>\n",
       "      <td>-1.157158</td>\n",
       "      <td>-1.290697</td>\n",
       "      <td>-1.274861</td>\n",
       "      <td>-0.453053</td>\n",
       "      <td>0.139265</td>\n",
       "      <td>-0.681438</td>\n",
       "      <td>-0.312241</td>\n",
       "      <td>-0.312241</td>\n",
       "      <td>-0.364778</td>\n",
       "      <td>...</td>\n",
       "      <td>-0.563799</td>\n",
       "      <td>-0.416499</td>\n",
       "      <td>0.797955</td>\n",
       "      <td>-0.131169</td>\n",
       "      <td>-0.241262</td>\n",
       "      <td>-0.333028</td>\n",
       "      <td>-0.399529</td>\n",
       "      <td>-0.10345</td>\n",
       "      <td>0.720936</td>\n",
       "      <td>-0.149991</td>\n",
       "    </tr>\n",
       "    <tr>\n",
       "      <th>3116</th>\n",
       "      <td>0.917322</td>\n",
       "      <td>0.864186</td>\n",
       "      <td>0.811782</td>\n",
       "      <td>0.784399</td>\n",
       "      <td>-0.453053</td>\n",
       "      <td>1.467446</td>\n",
       "      <td>-0.681438</td>\n",
       "      <td>-0.312241</td>\n",
       "      <td>-0.312241</td>\n",
       "      <td>-0.364778</td>\n",
       "      <td>...</td>\n",
       "      <td>1.773683</td>\n",
       "      <td>-0.416499</td>\n",
       "      <td>-1.253204</td>\n",
       "      <td>-0.131169</td>\n",
       "      <td>-0.241262</td>\n",
       "      <td>-0.333028</td>\n",
       "      <td>-0.399529</td>\n",
       "      <td>-0.10345</td>\n",
       "      <td>0.720936</td>\n",
       "      <td>-0.149991</td>\n",
       "    </tr>\n",
       "    <tr>\n",
       "      <th>3117</th>\n",
       "      <td>-1.090130</td>\n",
       "      <td>0.864186</td>\n",
       "      <td>0.751712</td>\n",
       "      <td>0.784399</td>\n",
       "      <td>-0.453053</td>\n",
       "      <td>0.803356</td>\n",
       "      <td>1.467485</td>\n",
       "      <td>-0.312241</td>\n",
       "      <td>-0.312241</td>\n",
       "      <td>-0.364778</td>\n",
       "      <td>...</td>\n",
       "      <td>-0.563799</td>\n",
       "      <td>2.400969</td>\n",
       "      <td>-1.253204</td>\n",
       "      <td>-0.131169</td>\n",
       "      <td>4.144876</td>\n",
       "      <td>-0.333028</td>\n",
       "      <td>-0.399529</td>\n",
       "      <td>-0.10345</td>\n",
       "      <td>-1.387085</td>\n",
       "      <td>-0.149991</td>\n",
       "    </tr>\n",
       "  </tbody>\n",
       "</table>\n",
       "<p>3118 rows × 25 columns</p>\n",
       "</div>"
      ],
      "text/plain": [
       "        Gender  Ever_Married       Age  Graduated  Work_Experience  \\\n",
       "0    -1.090130     -1.157158 -0.029209   0.784399        -0.453053   \n",
       "1    -1.090130     -1.157158 -0.509776   0.784399         1.991466   \n",
       "2    -1.090130      0.864186  1.292349   0.784399        -0.758618   \n",
       "3     0.917322     -1.157158 -0.870201  -1.274861        -0.453053   \n",
       "4     0.917322     -1.157158 -1.470909  -1.274861         3.213725   \n",
       "...        ...           ...       ...        ...              ...   \n",
       "3113  0.917322     -1.157158 -1.110484   0.784399         1.685901   \n",
       "3114  0.917322      0.864186 -0.629918  -1.274861        -0.758618   \n",
       "3115  0.917322     -1.157158 -1.290697  -1.274861        -0.453053   \n",
       "3116  0.917322      0.864186  0.811782   0.784399        -0.453053   \n",
       "3117 -1.090130      0.864186  0.751712   0.784399        -0.453053   \n",
       "\n",
       "      Family_Size  Profession_Artist  Profession_Doctor  Profession_Engineer  \\\n",
       "0       -0.524825           1.467485          -0.312241            -0.312241   \n",
       "1       -1.188915          -0.681438          -0.312241            -0.312241   \n",
       "2       -0.524825           1.467485          -0.312241            -0.312241   \n",
       "3        0.803356          -0.681438           3.202650            -0.312241   \n",
       "4        0.139265          -0.681438          -0.312241            -0.312241   \n",
       "...           ...                ...                ...                  ...   \n",
       "3113    -1.188915          -0.681438           3.202650            -0.312241   \n",
       "3114    -0.524825          -0.681438          -0.312241             3.202650   \n",
       "3115     0.139265          -0.681438          -0.312241            -0.312241   \n",
       "3116     1.467446          -0.681438          -0.312241            -0.312241   \n",
       "3117     0.803356           1.467485          -0.312241            -0.312241   \n",
       "\n",
       "      Profession_Entertainment  ...  Spending_Score_Average  \\\n",
       "0                    -0.364778  ...               -0.563799   \n",
       "1                    -0.364778  ...               -0.563799   \n",
       "2                    -0.364778  ...               -0.563799   \n",
       "3                    -0.364778  ...               -0.563799   \n",
       "4                    -0.364778  ...               -0.563799   \n",
       "...                        ...  ...                     ...   \n",
       "3113                 -0.364778  ...               -0.563799   \n",
       "3114                 -0.364778  ...                1.773683   \n",
       "3115                 -0.364778  ...               -0.563799   \n",
       "3116                 -0.364778  ...                1.773683   \n",
       "3117                 -0.364778  ...               -0.563799   \n",
       "\n",
       "      Spending_Score_High  Spending_Score_Low  Var_1_Cat_1  Var_1_Cat_2  \\\n",
       "0               -0.416499            0.797955    -0.131169    -0.241262   \n",
       "1               -0.416499            0.797955    -0.131169    -0.241262   \n",
       "2               -0.416499            0.797955    -0.131169    -0.241262   \n",
       "3               -0.416499            0.797955    -0.131169    -0.241262   \n",
       "4               -0.416499            0.797955    -0.131169    -0.241262   \n",
       "...                   ...                 ...          ...          ...   \n",
       "3113            -0.416499            0.797955    -0.131169    -0.241262   \n",
       "3114            -0.416499           -1.253204    -0.131169    -0.241262   \n",
       "3115            -0.416499            0.797955    -0.131169    -0.241262   \n",
       "3116            -0.416499           -1.253204    -0.131169    -0.241262   \n",
       "3117             2.400969           -1.253204    -0.131169     4.144876   \n",
       "\n",
       "      Var_1_Cat_3  Var_1_Cat_4  Var_1_Cat_5  Var_1_Cat_6  Var_1_Cat_7  \n",
       "0       -0.333028    -0.399529     -0.10345     0.720936    -0.149991  \n",
       "1       -0.333028    -0.399529     -0.10345     0.720936    -0.149991  \n",
       "2       -0.333028    -0.399529     -0.10345     0.720936    -0.149991  \n",
       "3       -0.333028    -0.399529     -0.10345     0.720936    -0.149991  \n",
       "4       -0.333028    -0.399529     -0.10345    -1.387085     6.667083  \n",
       "...           ...          ...          ...          ...          ...  \n",
       "3113    -0.333028    -0.399529     -0.10345     0.720936    -0.149991  \n",
       "3114    -0.333028    -0.399529     -0.10345     0.720936    -0.149991  \n",
       "3115    -0.333028    -0.399529     -0.10345     0.720936    -0.149991  \n",
       "3116    -0.333028    -0.399529     -0.10345     0.720936    -0.149991  \n",
       "3117    -0.333028    -0.399529     -0.10345    -1.387085    -0.149991  \n",
       "\n",
       "[3118 rows x 25 columns]"
      ]
     },
     "execution_count": 45,
     "metadata": {},
     "output_type": "execute_result"
    }
   ],
   "source": [
    "X_test"
   ]
  },
  {
   "cell_type": "markdown",
   "metadata": {},
   "source": [
    "A questo punto possiamo addestrare i nostri modelli di machine learning."
   ]
  },
  {
   "cell_type": "markdown",
   "metadata": {},
   "source": [
    "# Machine Learning"
   ]
  },
  {
   "cell_type": "markdown",
   "metadata": {},
   "source": [
    "## Addestramento Modelli"
   ]
  },
  {
   "cell_type": "markdown",
   "metadata": {},
   "source": [
    "### Logistic Regression"
   ]
  },
  {
   "cell_type": "code",
   "execution_count": 46,
   "metadata": {},
   "outputs": [
    {
     "data": {
      "text/plain": [
       "46.69"
      ]
     },
     "execution_count": 46,
     "metadata": {},
     "output_type": "execute_result"
    }
   ],
   "source": [
    "logreg = LogisticRegression()\n",
    "logreg.fit(X_train, y_train)\n",
    "Y_pred = logreg.predict(X_test)\n",
    "acc_log = round(logreg.score(X_train, y_train) * 100, 2)\n",
    "acc_log"
   ]
  },
  {
   "cell_type": "markdown",
   "metadata": {},
   "source": [
    "### Support Vector Machines"
   ]
  },
  {
   "cell_type": "code",
   "execution_count": 47,
   "metadata": {},
   "outputs": [
    {
     "data": {
      "text/plain": [
       "51.24"
      ]
     },
     "execution_count": 47,
     "metadata": {},
     "output_type": "execute_result"
    }
   ],
   "source": [
    "svc = SVC()\n",
    "svc.fit(X_train, y_train)\n",
    "Y_pred = svc.predict(X_test)\n",
    "acc_svc = round(svc.score(X_train, y_train)*100, 2)\n",
    "acc_svc"
   ]
  },
  {
   "cell_type": "markdown",
   "metadata": {},
   "source": [
    "### K-nearest neighbours (KNN)"
   ]
  },
  {
   "cell_type": "code",
   "execution_count": 48,
   "metadata": {},
   "outputs": [
    {
     "data": {
      "text/plain": [
       "58.68"
      ]
     },
     "execution_count": 48,
     "metadata": {},
     "output_type": "execute_result"
    }
   ],
   "source": [
    "knn = KNeighborsClassifier(n_neighbors = 5)\n",
    "knn.fit(X_train, y_train)\n",
    "Y_pred = knn.predict(X_test)\n",
    "acc_knn = round(knn.score(X_train, y_train) * 100, 2)\n",
    "acc_knn"
   ]
  },
  {
   "cell_type": "markdown",
   "metadata": {},
   "source": [
    "### Gaussian naive bayes"
   ]
  },
  {
   "cell_type": "code",
   "execution_count": 49,
   "metadata": {},
   "outputs": [
    {
     "data": {
      "text/plain": [
       "43.78"
      ]
     },
     "execution_count": 49,
     "metadata": {},
     "output_type": "execute_result"
    }
   ],
   "source": [
    "gaussian = GaussianNB()\n",
    "gaussian.fit(X_train, y_train)\n",
    "Y_pred = gaussian.predict(X_test)\n",
    "acc_gaussian = round(gaussian.score(X_train, y_train) * 100, 2)\n",
    "acc_gaussian"
   ]
  },
  {
   "cell_type": "markdown",
   "metadata": {},
   "source": [
    "### Perceptron"
   ]
  },
  {
   "cell_type": "code",
   "execution_count": 50,
   "metadata": {},
   "outputs": [
    {
     "data": {
      "text/plain": [
       "32.04"
      ]
     },
     "execution_count": 50,
     "metadata": {},
     "output_type": "execute_result"
    }
   ],
   "source": [
    "perceptron = Perceptron()\n",
    "perceptron.fit(X_train, y_train)\n",
    "Y_pred = perceptron.predict(X_test)\n",
    "acc_perceptron = round(perceptron.score(X_train, y_train) * 100, 2)\n",
    "acc_perceptron"
   ]
  },
  {
   "cell_type": "markdown",
   "metadata": {},
   "source": [
    "### Linear SVC"
   ]
  },
  {
   "cell_type": "code",
   "execution_count": 51,
   "metadata": {},
   "outputs": [
    {
     "data": {
      "text/plain": [
       "46.2"
      ]
     },
     "execution_count": 51,
     "metadata": {},
     "output_type": "execute_result"
    }
   ],
   "source": [
    "linear_svc = LinearSVC()\n",
    "linear_svc.fit(X_train, y_train)\n",
    "Y_pred = linear_svc.predict(X_test)\n",
    "acc_linear_svc = round(linear_svc.score(X_train, y_train) * 100, 2)\n",
    "acc_linear_svc"
   ]
  },
  {
   "cell_type": "markdown",
   "metadata": {},
   "source": [
    "### Stochastic gradient descent"
   ]
  },
  {
   "cell_type": "code",
   "execution_count": 52,
   "metadata": {},
   "outputs": [
    {
     "data": {
      "text/plain": [
       "42.26"
      ]
     },
     "execution_count": 52,
     "metadata": {},
     "output_type": "execute_result"
    }
   ],
   "source": [
    "sgd = SGDClassifier()\n",
    "sgd.fit(X_train, y_train)\n",
    "Y_pred = sgd.predict(X_test)\n",
    "acc_sgd = round(sgd.score(X_train, y_train) * 100, 2)\n",
    "acc_sgd"
   ]
  },
  {
   "cell_type": "markdown",
   "metadata": {},
   "source": [
    "### Decision Tree"
   ]
  },
  {
   "cell_type": "code",
   "execution_count": 53,
   "metadata": {},
   "outputs": [
    {
     "data": {
      "text/plain": [
       "93.45"
      ]
     },
     "execution_count": 53,
     "metadata": {},
     "output_type": "execute_result"
    }
   ],
   "source": [
    "decision_tree = DecisionTreeClassifier()\n",
    "decision_tree.fit(X_train, y_train)\n",
    "Y_pred = decision_tree.predict(X_test)\n",
    "acc_decision_tree = round(decision_tree.score(X_train, y_train) * 100, 2)\n",
    "acc_decision_tree"
   ]
  },
  {
   "cell_type": "markdown",
   "metadata": {},
   "source": [
    "### Random Forest\n"
   ]
  },
  {
   "cell_type": "code",
   "execution_count": 54,
   "metadata": {},
   "outputs": [
    {
     "data": {
      "text/plain": [
       "93.45"
      ]
     },
     "execution_count": 54,
     "metadata": {},
     "output_type": "execute_result"
    }
   ],
   "source": [
    "random_forest = RandomForestClassifier(n_estimators = 100)\n",
    "random_forest.fit(X_train, y_train)\n",
    "Y_pred = random_forest.predict(X_test)\n",
    "acc_random_forest = round(random_forest.score(X_train, y_train) * 100, 2)\n",
    "acc_random_forest"
   ]
  },
  {
   "cell_type": "code",
   "execution_count": 56,
   "metadata": {},
   "outputs": [
    {
     "data": {
      "text/html": [
       "<div>\n",
       "<style scoped>\n",
       "    .dataframe tbody tr th:only-of-type {\n",
       "        vertical-align: middle;\n",
       "    }\n",
       "\n",
       "    .dataframe tbody tr th {\n",
       "        vertical-align: top;\n",
       "    }\n",
       "\n",
       "    .dataframe thead th {\n",
       "        text-align: right;\n",
       "    }\n",
       "</style>\n",
       "<table border=\"1\" class=\"dataframe\">\n",
       "  <thead>\n",
       "    <tr style=\"text-align: right;\">\n",
       "      <th></th>\n",
       "      <th>Model</th>\n",
       "      <th>Score</th>\n",
       "    </tr>\n",
       "  </thead>\n",
       "  <tbody>\n",
       "    <tr>\n",
       "      <th>0</th>\n",
       "      <td>Random Forest</td>\n",
       "      <td>93.45</td>\n",
       "    </tr>\n",
       "    <tr>\n",
       "      <th>1</th>\n",
       "      <td>Decision Tree</td>\n",
       "      <td>93.45</td>\n",
       "    </tr>\n",
       "    <tr>\n",
       "      <th>2</th>\n",
       "      <td>KNN</td>\n",
       "      <td>58.68</td>\n",
       "    </tr>\n",
       "    <tr>\n",
       "      <th>3</th>\n",
       "      <td>Support Vector Machines</td>\n",
       "      <td>51.24</td>\n",
       "    </tr>\n",
       "    <tr>\n",
       "      <th>4</th>\n",
       "      <td>Logistic Regression</td>\n",
       "      <td>46.69</td>\n",
       "    </tr>\n",
       "    <tr>\n",
       "      <th>5</th>\n",
       "      <td>Linear SVC</td>\n",
       "      <td>46.20</td>\n",
       "    </tr>\n",
       "    <tr>\n",
       "      <th>6</th>\n",
       "      <td>Naive Bayes</td>\n",
       "      <td>43.78</td>\n",
       "    </tr>\n",
       "    <tr>\n",
       "      <th>7</th>\n",
       "      <td>Stochastic Gradient Decent</td>\n",
       "      <td>42.26</td>\n",
       "    </tr>\n",
       "    <tr>\n",
       "      <th>8</th>\n",
       "      <td>Perceptron</td>\n",
       "      <td>32.04</td>\n",
       "    </tr>\n",
       "  </tbody>\n",
       "</table>\n",
       "</div>"
      ],
      "text/plain": [
       "                        Model  Score\n",
       "0               Random Forest  93.45\n",
       "1               Decision Tree  93.45\n",
       "2                         KNN  58.68\n",
       "3     Support Vector Machines  51.24\n",
       "4         Logistic Regression  46.69\n",
       "5                  Linear SVC  46.20\n",
       "6                 Naive Bayes  43.78\n",
       "7  Stochastic Gradient Decent  42.26\n",
       "8                  Perceptron  32.04"
      ]
     },
     "execution_count": 56,
     "metadata": {},
     "output_type": "execute_result"
    }
   ],
   "source": [
    "models = pd.DataFrame({'Model':['Support Vector Machines', 'KNN', 'Logistic Regression', \n",
    "                                 'Random Forest', 'Naive Bayes', 'Perceptron', 'Stochastic Gradient Decent', \n",
    "                                 'Linear SVC', 'Decision Tree'], 'Score':[acc_svc, acc_knn, acc_log, acc_random_forest, acc_gaussian, acc_perceptron,\n",
    "                                 acc_sgd, acc_linear_svc, acc_decision_tree]})\n",
    "\n",
    "models.sort_values(by='Score', ascending = False, ignore_index = True)"
   ]
  },
  {
   "cell_type": "markdown",
   "metadata": {},
   "source": [
    "Decision Tree e Random Forest potrebbero essere affetti da overfitting perché hanno un'accuratezza molto elevata sul training set, per questo motivo bisogna utilizzare altre tecniche per indagare l'accuratezza dei nostri modelli."
   ]
  },
  {
   "cell_type": "markdown",
   "metadata": {},
   "source": [
    "## K-fold Cross Validation"
   ]
  },
  {
   "cell_type": "markdown",
   "metadata": {},
   "source": [
    "Misuriamo l'accuratezza dei classificatori utilizzando K-fold Cross Validation sul training set"
   ]
  },
  {
   "cell_type": "code",
   "execution_count": 58,
   "metadata": {},
   "outputs": [
    {
     "data": {
      "text/plain": [
       "9"
      ]
     },
     "execution_count": 58,
     "metadata": {},
     "output_type": "execute_result"
    }
   ],
   "source": [
    "# Creiamo un lista che contiene i classificatori\n",
    "\n",
    "classifiers = []\n",
    "classifiers.append(LogisticRegression())\n",
    "classifiers.append(SVC())\n",
    "classifiers.append(KNeighborsClassifier(n_neighbors = 5))\n",
    "classifiers.append(GaussianNB())\n",
    "classifiers.append(Perceptron())\n",
    "classifiers.append(LinearSVC())\n",
    "classifiers.append(SGDClassifier())\n",
    "classifiers.append(DecisionTreeClassifier())\n",
    "classifiers.append(RandomForestClassifier())\n",
    "\n",
    "\n",
    "len(classifiers)"
   ]
  },
  {
   "cell_type": "code",
   "execution_count": 59,
   "metadata": {},
   "outputs": [],
   "source": [
    "# Creiamo una lista che contiene i risultati di validazione per ogni classificatore\n",
    "#Utilizziamo 10 fold dei dati\n",
    "cv_results = []\n",
    "for classifier in classifiers:\n",
    "    cv_results.append(cross_val_score(classifier, X_train, y_train, scoring = 'accuracy', cv = 10))"
   ]
  },
  {
   "cell_type": "code",
   "execution_count": 60,
   "metadata": {},
   "outputs": [],
   "source": [
    "#Calcoliamo media e deviazione standard ottenuti dalla cross validation per ogni classificatore\n",
    "\n",
    "cv_mean = []\n",
    "cv_std = []\n",
    "for cv_result in cv_results:\n",
    "    cv_mean.append(cv_result.mean())\n",
    "    cv_std.append(cv_result.std())"
   ]
  },
  {
   "cell_type": "code",
   "execution_count": 61,
   "metadata": {
    "scrolled": true
   },
   "outputs": [
    {
     "data": {
      "text/html": [
       "<div>\n",
       "<style scoped>\n",
       "    .dataframe tbody tr th:only-of-type {\n",
       "        vertical-align: middle;\n",
       "    }\n",
       "\n",
       "    .dataframe tbody tr th {\n",
       "        vertical-align: top;\n",
       "    }\n",
       "\n",
       "    .dataframe thead th {\n",
       "        text-align: right;\n",
       "    }\n",
       "</style>\n",
       "<table border=\"1\" class=\"dataframe\">\n",
       "  <thead>\n",
       "    <tr style=\"text-align: right;\">\n",
       "      <th></th>\n",
       "      <th>Cross Validation Mean</th>\n",
       "      <th>Cross Validation Std</th>\n",
       "      <th>Algorithm</th>\n",
       "    </tr>\n",
       "  </thead>\n",
       "  <tbody>\n",
       "    <tr>\n",
       "      <th>0</th>\n",
       "      <td>0.459017</td>\n",
       "      <td>0.014272</td>\n",
       "      <td>Logistic Regression</td>\n",
       "    </tr>\n",
       "    <tr>\n",
       "      <th>1</th>\n",
       "      <td>0.455993</td>\n",
       "      <td>0.015261</td>\n",
       "      <td>Support Vector Machines</td>\n",
       "    </tr>\n",
       "    <tr>\n",
       "      <th>2</th>\n",
       "      <td>0.454481</td>\n",
       "      <td>0.010254</td>\n",
       "      <td>Linear SVC</td>\n",
       "    </tr>\n",
       "    <tr>\n",
       "      <th>3</th>\n",
       "      <td>0.428355</td>\n",
       "      <td>0.007814</td>\n",
       "      <td>Gausian Naive Bayes</td>\n",
       "    </tr>\n",
       "    <tr>\n",
       "      <th>4</th>\n",
       "      <td>0.411852</td>\n",
       "      <td>0.018147</td>\n",
       "      <td>Random Forest</td>\n",
       "    </tr>\n",
       "    <tr>\n",
       "      <th>5</th>\n",
       "      <td>0.410614</td>\n",
       "      <td>0.012939</td>\n",
       "      <td>KNN</td>\n",
       "    </tr>\n",
       "    <tr>\n",
       "      <th>6</th>\n",
       "      <td>0.408272</td>\n",
       "      <td>0.024377</td>\n",
       "      <td>Stochastic Gradient Descent</td>\n",
       "    </tr>\n",
       "    <tr>\n",
       "      <th>7</th>\n",
       "      <td>0.364962</td>\n",
       "      <td>0.015635</td>\n",
       "      <td>Decision Tree</td>\n",
       "    </tr>\n",
       "    <tr>\n",
       "      <th>8</th>\n",
       "      <td>0.346535</td>\n",
       "      <td>0.027545</td>\n",
       "      <td>Perceptron</td>\n",
       "    </tr>\n",
       "  </tbody>\n",
       "</table>\n",
       "</div>"
      ],
      "text/plain": [
       "   Cross Validation Mean  Cross Validation Std                    Algorithm\n",
       "0               0.459017              0.014272          Logistic Regression\n",
       "1               0.455993              0.015261      Support Vector Machines\n",
       "2               0.454481              0.010254                   Linear SVC\n",
       "3               0.428355              0.007814          Gausian Naive Bayes\n",
       "4               0.411852              0.018147                Random Forest\n",
       "5               0.410614              0.012939                          KNN\n",
       "6               0.408272              0.024377  Stochastic Gradient Descent\n",
       "7               0.364962              0.015635                Decision Tree\n",
       "8               0.346535              0.027545                   Perceptron"
      ]
     },
     "execution_count": 61,
     "metadata": {},
     "output_type": "execute_result"
    }
   ],
   "source": [
    "#Creiamo una tabella con i risultati \n",
    "cv_res = pd.DataFrame({'Cross Validation Mean': cv_mean, \n",
    "                       'Cross Validation Std': cv_std, \n",
    "                       'Algorithm': ['Logistic Regression',\n",
    "                                     'Support Vector Machines',\n",
    "                                     'KNN', 'Gausian Naive Bayes',\n",
    "                                     'Perceptron',\n",
    "                                     'Linear SVC',\n",
    "                                     'Stochastic Gradient Descent',\n",
    "                                     'Decision Tree',\n",
    "                                     'Random Forest']})\n",
    "cv_res.sort_values(by = 'Cross Validation Mean', ascending = False, ignore_index = True)"
   ]
  },
  {
   "cell_type": "code",
   "execution_count": 62,
   "metadata": {},
   "outputs": [
    {
     "data": {
      "image/png": "[encoded data removed]",
      "text/plain": [
       "<Figure size 720x432 with 1 Axes>"
      ]
     },
     "metadata": {},
     "output_type": "display_data"
    }
   ],
   "source": [
    "sns.barplot('Cross Validation Mean', 'Algorithm', data = cv_res, order = cv_res.sort_values(by = 'Cross Validation Mean', ascending = False)['Algorithm'], palette = 'Set3', **{'xerr': cv_std})\n",
    "plt.ylabel('Algorithm')\n",
    "plt.title('Cross Validation Scores');"
   ]
  },
  {
   "cell_type": "markdown",
   "metadata": {},
   "source": [
    "Come sospettavamo, Decision Tree e Random Forest soffrivano di Overftting sul training set, il modello più performante dopo la cross validation è Logistic Regression con un'accuratezza del 46%. È possibile migliorare questo punteggio aggiustando i parametri di questo classificatore con grid search."
   ]
  },
  {
   "cell_type": "markdown",
   "metadata": {},
   "source": [
    "## Validazione degli Iperparametri per Logistic Regression"
   ]
  },
  {
   "cell_type": "code",
   "execution_count": 63,
   "metadata": {},
   "outputs": [
    {
     "data": {
      "text/plain": [
       "GridSearchCV(cv=10, estimator=LogisticRegression(),\n",
       "             param_grid={'C': array([1.e-03, 1.e-02, 1.e-01, 1.e+00, 1.e+01, 1.e+02, 1.e+03]),\n",
       "                         'penalty': ['l1', 'l2']})"
      ]
     },
     "execution_count": 63,
     "metadata": {},
     "output_type": "execute_result"
    }
   ],
   "source": [
    "param_grid = {\"C\":np.logspace(-3,3,7), \n",
    "              \"penalty\":[\"l1\",\"l2\"]}\n",
    "grid_log = GridSearchCV(LogisticRegression(), param_grid, cv=10)\n",
    "grid_log.fit(X_train, y_train)"
   ]
  },
  {
   "cell_type": "code",
   "execution_count": 64,
   "metadata": {},
   "outputs": [
    {
     "name": "stdout",
     "output_type": "stream",
     "text": [
      "Best parameters:  {'C': 0.01, 'penalty': 'l2'}\n"
     ]
    }
   ],
   "source": [
    "print(\"Best parameters: \", grid_log.best_params_) "
   ]
  },
  {
   "cell_type": "code",
   "execution_count": 65,
   "metadata": {},
   "outputs": [],
   "source": [
    "#addestriamo il modello con questi parametri\n",
    "predictions = grid_log.predict(X_test)\n",
    "acc_logistic = round(grid_log.score(X_train, y_train) * 100, 2)"
   ]
  },
  {
   "cell_type": "code",
   "execution_count": 66,
   "metadata": {},
   "outputs": [
    {
     "data": {
      "text/plain": [
       "46.74"
      ]
     },
     "execution_count": 66,
     "metadata": {},
     "output_type": "execute_result"
    }
   ],
   "source": [
    "acc_logistic"
   ]
  },
  {
   "cell_type": "markdown",
   "metadata": {},
   "source": [
    "L'accuratezza di Logistic Regressor con iperparametri validati è circa del **47%**. Possiamo visualizzare anche altre metriche di valutazione per capire meglio come funziona il nostro modello:"
   ]
  },
  {
   "cell_type": "code",
   "execution_count": 67,
   "metadata": {},
   "outputs": [
    {
     "name": "stdout",
     "output_type": "stream",
     "text": [
      "              precision    recall  f1-score   support\n",
      "\n",
      "           A       0.40      0.41      0.40       821\n",
      "           B       0.28      0.26      0.27       686\n",
      "           C       0.43      0.42      0.42       714\n",
      "           D       0.55      0.58      0.56       897\n",
      "\n",
      "    accuracy                           0.43      3118\n",
      "   macro avg       0.41      0.42      0.42      3118\n",
      "weighted avg       0.42      0.43      0.42      3118\n",
      "\n"
     ]
    }
   ],
   "source": [
    "print(classification_report(y_test, Y_pred, target_names=['A','B','C','D']))"
   ]
  },
  {
   "cell_type": "code",
   "execution_count": 68,
   "metadata": {},
   "outputs": [
    {
     "data": {
      "image/png": "[encoded data removed]",
      "text/plain": [
       "<Figure size 720x432 with 2 Axes>"
      ]
     },
     "metadata": {},
     "output_type": "display_data"
    }
   ],
   "source": [
    "cm = confusion_matrix(y_test, predictions, labels=grid_log.classes_)\n",
    "disp = ConfusionMatrixDisplay(confusion_matrix=cm, display_labels=grid_log.classes_)\n",
    "\n",
    "sns.heatmap(cm, annot=True, fmt='d',linewidths=.5, cmap='viridis', \n",
    "            xticklabels=['A','B','C','D'], yticklabels=['A','B','C','D'])\n",
    "\n",
    "plt.xlabel('Valori Predetti')\n",
    "plt.ylabel('Valori Reali')\n",
    "plt.title('Confusion Matrix')\n",
    "plt.yticks(rotation=0);"
   ]
  },
  {
   "cell_type": "markdown",
   "metadata": {},
   "source": [
    "Dal classification report è possibile notare che la classe B ha sia una precision che una recall più basse rispetto alle altre classi, ciò è confermato anche dalla confusion matrix. È possibile notare come la classe B sia quella con più errori di classificazione, in particolare la classe B viene spesso classificata come A o come C. Questo problema può essere risolto aggiungendo più istanze appertenti alla classe B, in modo che l'algoritmo possa avere a disposizione maggiori elementi per distinguerle dalle altre."
   ]
  }
 ],
 "metadata": {
  "kernelspec": {
   "display_name": "Python 3 (ipykernel)",
   "language": "python",
   "name": "python3"
  },
  "language_info": {
   "codemirror_mode": {
    "name": "ipython",
    "version": 3
   },
   "file_extension": ".py",
   "mimetype": "text/x-python",
   "name": "python",
   "nbconvert_exporter": "python",
   "pygments_lexer": "ipython3",
   "version": "3.8.5"
  },
  "toc": {
   "base_numbering": 1,
   "nav_menu": {},
   "number_sections": true,
   "sideBar": true,
   "skip_h1_title": false,
   "title_cell": "Table of Contents",
   "title_sidebar": "Contents",
   "toc_cell": false,
   "toc_position": {},
   "toc_section_display": true,
   "toc_window_display": true
  },
  "varInspector": {
   "cols": {
    "lenName": 16,
    "lenType": 16,
    "lenVar": 40
   },
   "kernels_config": {
    "python": {
     "delete_cmd_postfix": "",
     "delete_cmd_prefix": "del ",
     "library": "var_list.py",
     "varRefreshCmd": "print(var_dic_list())"
    },
    "r": {
     "delete_cmd_postfix": ") ",
     "delete_cmd_prefix": "rm(",
     "library": "var_list.r",
     "varRefreshCmd": "cat(var_dic_list()) "
    }
   },
   "types_to_exclude": [
    "module",
    "function",
    "builtin_function_or_method",
    "instance",
    "_Feature"
   ],
   "window_display": false
  }
 },
 "nbformat": 4,
 "nbformat_minor": 4
}
